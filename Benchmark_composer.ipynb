{
 "cells": [
  {
   "cell_type": "markdown",
   "id": "73de53e5-9e46-4edd-a64c-9778c3f7285e",
   "metadata": {
    "colab_type": "text",
    "id": "view-in-github"
   },
   "source": [
    "<a href=\"https://colab.research.google.com/github/tcapelle/mosaic/blob/master/MosaicML_Composer_and_wandb.ipynb\" target=\"_parent\"><img src=\"https://colab.research.google.com/assets/colab-badge.svg\" alt=\"Open In Colab\"/></a><!--- @wandbcode{mosaicml} -->"
   ]
  },
  {
   "cell_type": "markdown",
   "id": "910a2eb0-65b5-4b6c-971a-19bf8121ab13",
   "metadata": {},
   "source": [
    "<img src=\"https://wandb.me/logo-im-png\" width=\"400\" alt=\"Weights & Biases\" />\n",
    "<img src=\"https://raw.githubusercontent.com/mosaicml/composer/dev/docs/source/_static/images/header_dark.svg\" width=\"400\" alt=\"mosaicml\" />\n",
    "\n",
    "<!--- @wandbcode{lit_colab_boris} -->\n",
    "\n",
    "# Running fast with MosaicML Composer and Weight and Biases"
   ]
  },
  {
   "cell_type": "markdown",
   "id": "4961c393-0154-4937-98d7-16e472b9a0d3",
   "metadata": {},
   "source": [
    "[MosaicML Composer](https://docs.mosaicml.com) is a library for training neural networks better, faster, and cheaper. It contains many state-of-the-art methods for accelerating neural network training and improving generalization, along with an optional Trainer API that makes composing many different enhancements easy.\n",
    "\n",
    "Coupled with [Weights & Biases integration](https://docs.mosaicml.com/en/v0.5.0/trainer/logging.html), you can quickly train and monitor models for full traceability and reproducibility with only 2 extra lines of code:\n",
    "\n",
    "```python\n",
    "from composer.loggers import WandBLogger\n",
    "wandb_logger = WandBLogger()\n",
    "```"
   ]
  },
  {
   "cell_type": "markdown",
   "id": "4ec877f6-57aa-4423-ae4b-f85769c59dd6",
   "metadata": {},
   "source": [
    "W&B integration with Composer can automatically:\n",
    "* log your configuration parameters\n",
    "* log your losses and metrics\n",
    "* log gradients and parameter distributions\n",
    "* log your model\n",
    "* keep track of your code\n",
    "* log your system metrics (GPU, CPU, memory, temperature, etc)"
   ]
  },
  {
   "cell_type": "markdown",
   "id": "092b0104-530a-438d-bd68-08f627cc8920",
   "metadata": {
    "tags": []
   },
   "source": [
    "### 🛠️ Installation and set-up\n",
    "\n",
    "We need to install the following libraries:\n",
    "* [mosaicml-composer](https://docs.mosaicml.com/en/v0.5.0/getting_started/installation.html) to set up and train our models\n",
    "* [wandb](https://docs.wandb.ai/) to instrument our training"
   ]
  },
  {
   "cell_type": "code",
   "execution_count": 1,
   "id": "56bbcb21-babd-488b-a20d-080f43f09897",
   "metadata": {},
   "outputs": [],
   "source": [
    "# !pip install -Uqq wandb mosaicml fastcore"
   ]
  },
  {
   "cell_type": "markdown",
   "id": "39e54ec9-51b6-4f49-9ea1-2ed82f03add3",
   "metadata": {},
   "source": [
    "## Getting Started with Composer 🔥"
   ]
  },
  {
   "cell_type": "markdown",
   "id": "a2e0f570-d323-4ecf-bdb3-1469730f562b",
   "metadata": {},
   "source": [
    "Composer gives you access to a set of functions to speedup your models and infuse them with state of the art methods. For instance, you can insert [BlurPool](https://docs.mosaicml.com/en/latest/method_cards/blurpool.html) into your CNN by calling `CF.apply_blurpool(model)` into your PyTorch model. Take a look at all the [functional](https://docs.mosaicml.com/en/latest/functional_api.html) methods available."
   ]
  },
  {
   "cell_type": "code",
   "execution_count": 2,
   "id": "55d71a76-7354-43ee-87c1-a83aa88b0b69",
   "metadata": {},
   "outputs": [],
   "source": [
    "from fastcore.all import *\n",
    "from composer import functional as CF\n",
    "import torchvision.models as models\n",
    "\n",
    "model = models.resnet50()\n",
    "\n",
    "# replace some layers with blurpool\n",
    "CF.apply_blurpool(model);\n",
    "# replace some layers with squeeze-excite\n",
    "CF.apply_squeeze_excite(model, latent_channels=64, min_channels=128);"
   ]
  },
  {
   "cell_type": "markdown",
   "id": "642eb0d5-b4f6-4add-9d59-235222bc2236",
   "metadata": {
    "tags": []
   },
   "source": [
    "## Using the `Trainer` class with Weights and Biases 🏋️‍♀️\n",
    "\n",
    "W&B integration with MosaicML-Composer is built into the `Trainer` and can be configured to add extra functionalities through `WandBLogger`:\n",
    "\n",
    "* logging of Artifacts: Use `log_artifacts=True` to log model checkpoints as `wandb.Artifacts`. You can setup how often by passing an int value to `log_artifacts_every_n_batches` (default = 100)\n",
    "* you can also pass any parameter that you would pass to `wandb.init` in `init_params` as a dictionary. For example, you could pass `init_params = {\"project\":\"try_mosaicml\", \"name\":\"benchmark\", \"entity\":\"user_name\"}`.\n",
    "\n",
    "For more details refer to [Logger documentation](https://docs.mosaicml.com/en/latest/api_reference/composer.loggers.wandb_logger.html#composer.loggers.wandb_logger.WandBLogger) and [Wandb docs](https://docs.wandb.ai)"
   ]
  },
  {
   "cell_type": "markdown",
   "id": "9d98dee3-4a8f-4ac4-b92a-46ea279c9be2",
   "metadata": {},
   "source": [
    "Let's grab fastai's [Imagenette dataset](https://github.com/fastai/imagenette) and decompress it"
   ]
  },
  {
   "cell_type": "code",
   "execution_count": 3,
   "id": "caecb6eb-25b9-4daf-a1d2-465fecf98ef7",
   "metadata": {},
   "outputs": [],
   "source": [
    "EPOCHS = 20\n",
    "BS = 64\n",
    "ARCH = \"resnet50\""
   ]
  },
  {
   "cell_type": "code",
   "execution_count": 4,
   "id": "04b15541-9f20-4979-a24f-145546881641",
   "metadata": {},
   "outputs": [],
   "source": [
    "if not Path('imagenette2.tgz').exists():\n",
    "    URL = 'https://s3.amazonaws.com/fast-ai-imageclas/imagenette2.tgz'\n",
    "    !wget {URL}\n",
    "    imagenette_path = untar_dir(\"imagenette2.tgz\", Path(\".\"))\n",
    "else:\n",
    "    imagenette_path = Path('imagenette2')"
   ]
  },
  {
   "cell_type": "code",
   "execution_count": 5,
   "id": "a222b9eb-4a30-4356-bcd7-38a6f08f1c76",
   "metadata": {},
   "outputs": [],
   "source": [
    "import torchvision as tv\n",
    "\n",
    "class Imagenette:\n",
    "    def __init__(self, path, train=True, transform=None):\n",
    "        path = Path(path) / (\"train\" if train else \"val\")\n",
    "        self.transform = transform\n",
    "        self.files = list(path.glob(\"**/*.JPEG\"))\n",
    "        self.classes = {label.name:i for i, label in enumerate(path.iterdir())}\n",
    "        \n",
    "    def __getitem__(self, idx):\n",
    "        file_path = self.files[idx]\n",
    "        image = self.transform(tv.io.read_image(str(file_path), \n",
    "                                             mode=tv.io.image.ImageReadMode.RGB)) \n",
    "        label = self.classes[file_path.parent.name]\n",
    "        return image, label\n",
    "            \n",
    "    def __len__(self):\n",
    "        return len(self.files)"
   ]
  },
  {
   "cell_type": "code",
   "execution_count": 6,
   "id": "93fbba13-dbb9-436e-8237-fa60f0e54675",
   "metadata": {},
   "outputs": [],
   "source": [
    "import torch\n",
    "import torchvision.transforms as T\n",
    "from torchvision import datasets\n",
    "from torch.utils.data import DataLoader\n",
    "\n",
    "from composer import Trainer"
   ]
  },
  {
   "cell_type": "code",
   "execution_count": 7,
   "id": "5424e4bf-bd7c-43ff-8a04-2d4e5e13afb5",
   "metadata": {},
   "outputs": [
    {
     "name": "stdout",
     "output_type": "stream",
     "text": [
      "train/val:  9469 3925\n"
     ]
    }
   ],
   "source": [
    "imagenet_stats = [0.485, 0.456, 0.406], [0.229, 0.224, 0.225]\n",
    "transform = T.Compose([T.CenterCrop(256), \n",
    "                                T.ConvertImageDtype(torch.float),\n",
    "                                T.Normalize(*imagenet_stats)\n",
    "                               ])\n",
    "train_dataset = Imagenette(imagenette_path, train=True, transform=transform)\n",
    "eval_dataset = Imagenette(imagenette_path, train=False, transform=transform)\n",
    "\n",
    "print(\"train/val: \",len(train_dataset), len(eval_dataset))\n",
    "\n",
    "train_dataloader = DataLoader(train_dataset, shuffle=True, batch_size=BS, num_workers=8)\n",
    "eval_dataloader = DataLoader(eval_dataset, batch_size=2*BS, num_workers=8)"
   ]
  },
  {
   "cell_type": "markdown",
   "id": "baa820b1-12bb-43c8-ae7c-5cea24b69c35",
   "metadata": {},
   "source": [
    "we define the `wandb.init` params here"
   ]
  },
  {
   "cell_type": "code",
   "execution_count": 8,
   "id": "cd3d846b-e438-461f-9346-5818f64a180e",
   "metadata": {},
   "outputs": [],
   "source": [
    "from composer.loggers import WandBLogger, ProgressBarLogger"
   ]
  },
  {
   "cell_type": "code",
   "execution_count": 9,
   "id": "c4424591-cd28-4af2-987b-be0588a99a8e",
   "metadata": {},
   "outputs": [],
   "source": [
    "# config params to log\n",
    "config = {\"epochs\":EPOCHS, \n",
    "          \"batch_size\":BS,\n",
    "          \"arch\":ARCH}\n",
    "\n",
    "init_params = {\"project\":\"composer\", \n",
    "               \"name\":\"baseline\", \n",
    "               \"config\":config}\n",
    "\n",
    "# we pass the to the logger \n",
    "wandb_logger = WandBLogger(init_params=init_params)\n",
    "\n",
    "# we also add progressbar logging\n",
    "progress_logger = ProgressBarLogger()"
   ]
  },
  {
   "cell_type": "markdown",
   "id": "2f2b5740-7736-4f6d-88f1-c89a669691fe",
   "metadata": {},
   "source": [
    "to tweak what are we logging, we can pass `Callbacks` to the `Trainer` class."
   ]
  },
  {
   "cell_type": "code",
   "execution_count": 10,
   "id": "ffda5f2a-3696-4da0-9197-17076d6dce8b",
   "metadata": {},
   "outputs": [],
   "source": [
    "from composer.callbacks import SpeedMonitor, LRMonitor, CheckpointSaver"
   ]
  },
  {
   "cell_type": "markdown",
   "id": "0e647bcc-abe5-45cd-bb7d-fa91e6c2006e",
   "metadata": {},
   "source": [
    "we include callbacks that measure the model throughput (and the learning rate) and logs them to Weights & Biases. `Callbacks` control what is being logged, whereas loggers specify where the information is being saved. For more information on loggers, see [Logging](https://docs.mosaicml.com/en/latest/trainer/logging.html)."
   ]
  },
  {
   "cell_type": "code",
   "execution_count": 11,
   "id": "e60c66bc-f046-4a57-9ea7-a6e9fe5cfc3f",
   "metadata": {},
   "outputs": [],
   "source": [
    "callbacks = [LRMonitor(),    # Logs the learning rate\n",
    "             SpeedMonitor(), # Logs the training throughput\n",
    "            ]"
   ]
  },
  {
   "cell_type": "markdown",
   "id": "ed1cef41-583b-4915-88f0-a85bd4531206",
   "metadata": {},
   "source": [
    "we can also create a custom callback to log samples to `Weights and Biases` workspace,"
   ]
  },
  {
   "cell_type": "code",
   "execution_count": 12,
   "id": "b4c0116c-70e0-4f34-828a-1c911c709346",
   "metadata": {},
   "outputs": [],
   "source": [
    "import wandb\n",
    "from composer import Callback, State\n",
    "from composer.loggers import Logger\n",
    "\n",
    "class LogPredictions(Callback):\n",
    "    def __init__(self, num_samples=100, seed=1234):\n",
    "        super().__init__()\n",
    "        self.num_samples = num_samples\n",
    "        self.data = []\n",
    "        \n",
    "    def eval_batch_end(self, state: State, logger: Logger):\n",
    "        \"\"\"Compute predictions per batch and stores them on self.data\"\"\"\n",
    "        if state.epoch == state.max_duration: #on last val epoch\n",
    "            if len(self.data) < self.num_samples:\n",
    "                n = self.num_samples\n",
    "                x, y = state.batch_pair\n",
    "                outputs = state.outputs.argmax(-1)\n",
    "                data = [[wandb.Image(x_i), y_i, y_pred] for x_i, y_i, y_pred in list(zip(x[:n], y[:n], outputs[:n]))]\n",
    "                self.data += data\n",
    "            \n",
    "    def eval_end(self, state: State, logger: Logger):\n",
    "        \"Create a wandb.Table and logs it\"\n",
    "        columns = ['image', 'ground truth', 'prediction']\n",
    "        table = wandb.Table(columns=columns, data=self.data[:self.num_samples])\n",
    "        wandb.log({'sample_table':table}, step=int(state.timer.batch))"
   ]
  },
  {
   "cell_type": "code",
   "execution_count": 13,
   "id": "682b52b0-5055-4cfd-a6c1-1a114390e965",
   "metadata": {},
   "outputs": [],
   "source": [
    "callbacks.append(LogPredictions())"
   ]
  },
  {
   "cell_type": "markdown",
   "id": "8541c9d6-fc72-46f4-941b-0c4dae64632b",
   "metadata": {},
   "source": [
    "then we pass them to the `Trainer`"
   ]
  },
  {
   "cell_type": "markdown",
   "id": "ea602962-d12d-437b-88bd-f24a75c34bfb",
   "metadata": {},
   "source": [
    "## Baseline"
   ]
  },
  {
   "cell_type": "code",
   "execution_count": 14,
   "id": "b7ea261c-3968-4c46-8348-7aa981fb1575",
   "metadata": {},
   "outputs": [],
   "source": [
    "from composer.models import ComposerResNet\n",
    "model = ComposerResNet(ARCH, num_classes=10)"
   ]
  },
  {
   "cell_type": "code",
   "execution_count": 15,
   "id": "1b0afbba-0136-4766-8bf0-47c957c7480c",
   "metadata": {},
   "outputs": [],
   "source": [
    "# config params to log\n",
    "config = {\"epochs\":EPOCHS, \n",
    "          \"batch_size\":BS,\n",
    "          \"arch\":ARCH}\n",
    "\n",
    "init_params = {\"project\":\"composer\", \n",
    "               \"name\":\"baseline\", \n",
    "               \"config\":config}\n",
    "\n",
    "# we pass the to the logger \n",
    "wandb_logger = WandBLogger(init_params=init_params)\n",
    "\n",
    "loggers = [progress_logger, wandb_logger]"
   ]
  },
  {
   "cell_type": "code",
   "execution_count": 16,
   "id": "d5aee47a-f490-4b34-a5d7-23b483e288b4",
   "metadata": {},
   "outputs": [],
   "source": [
    "optim = torch.optim.Adam(model.parameters(), lr=1e-3, weight_decay=1e-2)"
   ]
  },
  {
   "cell_type": "code",
   "execution_count": 17,
   "id": "f69bb61c-b509-4354-9f1e-5ddf0f85af78",
   "metadata": {},
   "outputs": [
    {
     "name": "stderr",
     "output_type": "stream",
     "text": [
      "Failed to detect the name of this notebook, you can set it manually with the WANDB_NOTEBOOK_NAME environment variable to enable code saving.\n",
      "\u001b[34m\u001b[1mwandb\u001b[0m: Currently logged in as: \u001b[33mcapecape\u001b[0m (use `wandb login --relogin` to force relogin)\n"
     ]
    },
    {
     "data": {
      "text/html": [
       "wandb version 0.12.18 is available!  To upgrade, please run:\n",
       " $ pip install wandb --upgrade"
      ],
      "text/plain": [
       "<IPython.core.display.HTML object>"
      ]
     },
     "metadata": {},
     "output_type": "display_data"
    },
    {
     "data": {
      "text/html": [
       "Tracking run with wandb version 0.12.11"
      ],
      "text/plain": [
       "<IPython.core.display.HTML object>"
      ]
     },
     "metadata": {},
     "output_type": "display_data"
    },
    {
     "data": {
      "text/html": [
       "Run data is saved locally in <code>/home/paperspace/wandb/composer/wandb/run-20220616_124706-13of5bw0</code>"
      ],
      "text/plain": [
       "<IPython.core.display.HTML object>"
      ]
     },
     "metadata": {},
     "output_type": "display_data"
    },
    {
     "data": {
      "text/html": [
       "Syncing run <strong><a href=\"https://wandb.ai/capecape/composer/runs/13of5bw0\" target=\"_blank\">baseline</a></strong> to <a href=\"https://wandb.ai/capecape/composer\" target=\"_blank\">Weights & Biases</a> (<a href=\"https://wandb.me/run\" target=\"_blank\">docs</a>)<br/>"
      ],
      "text/plain": [
       "<IPython.core.display.HTML object>"
      ]
     },
     "metadata": {},
     "output_type": "display_data"
    },
    {
     "data": {
      "application/vnd.jupyter.widget-view+json": {
       "model_id": "a6978bc349704c7cb674334bc656f95b",
       "version_major": 2,
       "version_minor": 0
      },
      "text/plain": [
       "Epoch     0 train   0%|                         | 0/148 [00:00<?, ?it/s]                                      …"
      ]
     },
     "metadata": {},
     "output_type": "display_data"
    },
    {
     "data": {
      "application/vnd.jupyter.widget-view+json": {
       "model_id": "06b18c9b06d140a38432ff26ed3fbcde",
       "version_major": 2,
       "version_minor": 0
      },
      "text/plain": [
       "Epoch     1 val     0%|                         | 0/31 [00:00<?, ?it/s]                                       …"
      ]
     },
     "metadata": {},
     "output_type": "display_data"
    },
    {
     "ename": "AttributeError",
     "evalue": "'State' object has no attribute 'epoch'",
     "output_type": "error",
     "traceback": [
      "\u001b[0;31m---------------------------------------------------------------------------\u001b[0m",
      "\u001b[0;31mAttributeError\u001b[0m                            Traceback (most recent call last)",
      "Input \u001b[0;32mIn [17]\u001b[0m, in \u001b[0;36m<module>\u001b[0;34m\u001b[0m\n\u001b[1;32m      1\u001b[0m trainer \u001b[38;5;241m=\u001b[39m Trainer(\n\u001b[1;32m      2\u001b[0m     model\u001b[38;5;241m=\u001b[39mmodel,\n\u001b[1;32m      3\u001b[0m     train_dataloader\u001b[38;5;241m=\u001b[39mtrain_dataloader,\n\u001b[0;32m   (...)\u001b[0m\n\u001b[1;32m     10\u001b[0m     device\u001b[38;5;241m=\u001b[39m\u001b[38;5;124m\"\u001b[39m\u001b[38;5;124mgpu\u001b[39m\u001b[38;5;124m\"\u001b[39m,\n\u001b[1;32m     11\u001b[0m )\n\u001b[0;32m---> 12\u001b[0m \u001b[43mtrainer\u001b[49m\u001b[38;5;241;43m.\u001b[39;49m\u001b[43mfit\u001b[49m\u001b[43m(\u001b[49m\u001b[43m)\u001b[49m\n",
      "File \u001b[0;32m~/mambaforge/envs/pt/lib/python3.9/site-packages/composer/trainer/trainer.py:1291\u001b[0m, in \u001b[0;36mTrainer.fit\u001b[0;34m(self, train_dataloader, train_dataloader_label, train_subset_num_batches, compute_training_metrics, duration, reset_time, schedulers, scale_schedule_ratio, step_schedulers_every_batch, eval_dataloader, eval_subset_num_batches, eval_interval, grad_accum, precision, grad_clip_norm)\u001b[0m\n\u001b[1;32m   1288\u001b[0m     _validate_precision(precision, \u001b[38;5;28mself\u001b[39m\u001b[38;5;241m.\u001b[39m_device, \u001b[38;5;28mself\u001b[39m\u001b[38;5;241m.\u001b[39mdeepspeed_enabled)\n\u001b[1;32m   1289\u001b[0m     \u001b[38;5;28mself\u001b[39m\u001b[38;5;241m.\u001b[39mstate\u001b[38;5;241m.\u001b[39mprecision \u001b[38;5;241m=\u001b[39m precision\n\u001b[0;32m-> 1291\u001b[0m \u001b[38;5;28;43mself\u001b[39;49m\u001b[38;5;241;43m.\u001b[39;49m\u001b[43m_train_loop\u001b[49m\u001b[43m(\u001b[49m\u001b[43m)\u001b[49m\n",
      "File \u001b[0;32m~/mambaforge/envs/pt/lib/python3.9/site-packages/composer/trainer/trainer.py:1551\u001b[0m, in \u001b[0;36mTrainer._train_loop\u001b[0;34m(self)\u001b[0m\n\u001b[1;32m   1548\u001b[0m \u001b[38;5;66;03m# Pause the timing during evaluation\u001b[39;00m\n\u001b[1;32m   1549\u001b[0m \u001b[38;5;66;03m# Evaluation time is tracked separately in state.eval_timestamp\u001b[39;00m\n\u001b[1;32m   1550\u001b[0m duration \u001b[38;5;241m=\u001b[39m datetime\u001b[38;5;241m.\u001b[39mdatetime\u001b[38;5;241m.\u001b[39mnow() \u001b[38;5;241m-\u001b[39m last_wct\n\u001b[0;32m-> 1551\u001b[0m \u001b[38;5;28;43mself\u001b[39;49m\u001b[38;5;241;43m.\u001b[39;49m\u001b[43m_run_evaluators\u001b[49m\u001b[43m(\u001b[49m\u001b[43mEvent\u001b[49m\u001b[38;5;241;43m.\u001b[39;49m\u001b[43mEPOCH_END\u001b[49m\u001b[43m,\u001b[49m\u001b[43m \u001b[49m\u001b[43mlog_level\u001b[49m\u001b[38;5;241;43m=\u001b[39;49m\u001b[43mLogLevel\u001b[49m\u001b[38;5;241;43m.\u001b[39;49m\u001b[43mEPOCH\u001b[49m\u001b[43m)\u001b[49m\n\u001b[1;32m   1552\u001b[0m last_wct \u001b[38;5;241m=\u001b[39m datetime\u001b[38;5;241m.\u001b[39mdatetime\u001b[38;5;241m.\u001b[39mnow() \u001b[38;5;241m-\u001b[39m duration\n\u001b[1;32m   1554\u001b[0m \u001b[38;5;28mself\u001b[39m\u001b[38;5;241m.\u001b[39mengine\u001b[38;5;241m.\u001b[39mrun_event(Event\u001b[38;5;241m.\u001b[39mEPOCH_CHECKPOINT)\n",
      "File \u001b[0;32m~/mambaforge/envs/pt/lib/python3.9/site-packages/composer/trainer/trainer.py:1565\u001b[0m, in \u001b[0;36mTrainer._run_evaluators\u001b[0;34m(self, event, log_level)\u001b[0m\n\u001b[1;32m   1563\u001b[0m \u001b[38;5;28;01massert\u001b[39;00m evaluator\u001b[38;5;241m.\u001b[39msubset_num_batches \u001b[38;5;129;01mis\u001b[39;00m \u001b[38;5;129;01mnot\u001b[39;00m \u001b[38;5;28;01mNone\u001b[39;00m, \u001b[38;5;124m\"\u001b[39m\u001b[38;5;124msubset_num_batches should have been set on __init__() or fit()\u001b[39m\u001b[38;5;124m\"\u001b[39m\n\u001b[1;32m   1564\u001b[0m \u001b[38;5;28;01mif\u001b[39;00m evaluator\u001b[38;5;241m.\u001b[39meval_interval(\u001b[38;5;28mself\u001b[39m\u001b[38;5;241m.\u001b[39mstate, event):\n\u001b[0;32m-> 1565\u001b[0m     \u001b[38;5;28;43mself\u001b[39;49m\u001b[38;5;241;43m.\u001b[39;49m\u001b[43meval\u001b[49m\u001b[43m(\u001b[49m\n\u001b[1;32m   1566\u001b[0m \u001b[43m        \u001b[49m\u001b[43mdataloader\u001b[49m\u001b[38;5;241;43m=\u001b[39;49m\u001b[43mevaluator\u001b[49m\u001b[38;5;241;43m.\u001b[39;49m\u001b[43mdataloader\u001b[49m\u001b[43m,\u001b[49m\n\u001b[1;32m   1567\u001b[0m \u001b[43m        \u001b[49m\u001b[43mdataloader_label\u001b[49m\u001b[38;5;241;43m=\u001b[39;49m\u001b[43mevaluator\u001b[49m\u001b[38;5;241;43m.\u001b[39;49m\u001b[43mlabel\u001b[49m\u001b[43m,\u001b[49m\n\u001b[1;32m   1568\u001b[0m \u001b[43m        \u001b[49m\u001b[43msubset_num_batches\u001b[49m\u001b[38;5;241;43m=\u001b[39;49m\u001b[43mevaluator\u001b[49m\u001b[38;5;241;43m.\u001b[39;49m\u001b[43msubset_num_batches\u001b[49m\u001b[43m,\u001b[49m\n\u001b[1;32m   1569\u001b[0m \u001b[43m        \u001b[49m\u001b[43mmetrics\u001b[49m\u001b[38;5;241;43m=\u001b[39;49m\u001b[43mevaluator\u001b[49m\u001b[38;5;241;43m.\u001b[39;49m\u001b[43mmetrics\u001b[49m\u001b[43m,\u001b[49m\n\u001b[1;32m   1570\u001b[0m \u001b[43m        \u001b[49m\u001b[43mlog_level\u001b[49m\u001b[38;5;241;43m=\u001b[39;49m\u001b[43mlog_level\u001b[49m\u001b[43m,\u001b[49m\n\u001b[1;32m   1571\u001b[0m \u001b[43m    \u001b[49m\u001b[43m)\u001b[49m\n",
      "File \u001b[0;32m~/mambaforge/envs/pt/lib/python3.9/site-packages/composer/trainer/trainer.py:1959\u001b[0m, in \u001b[0;36mTrainer.eval\u001b[0;34m(self, dataloader, dataloader_label, metrics, subset_num_batches, log_level)\u001b[0m\n\u001b[1;32m   1951\u001b[0m     \u001b[38;5;28mself\u001b[39m\u001b[38;5;241m.\u001b[39mstate\u001b[38;5;241m.\u001b[39meval_timestamp \u001b[38;5;241m=\u001b[39m \u001b[38;5;28mself\u001b[39m\u001b[38;5;241m.\u001b[39mstate\u001b[38;5;241m.\u001b[39meval_timestamp\u001b[38;5;241m.\u001b[39mto_next_batch(\n\u001b[1;32m   1952\u001b[0m         samples\u001b[38;5;241m=\u001b[39mtotal_num_samples,\n\u001b[1;32m   1953\u001b[0m         tokens\u001b[38;5;241m=\u001b[39mtotal_num_tokens,\n\u001b[1;32m   1954\u001b[0m         duration\u001b[38;5;241m=\u001b[39mbatch_time,\n\u001b[1;32m   1955\u001b[0m     )\n\u001b[1;32m   1957\u001b[0m     last_wct \u001b[38;5;241m=\u001b[39m now\n\u001b[0;32m-> 1959\u001b[0m     \u001b[38;5;28;43mself\u001b[39;49m\u001b[38;5;241;43m.\u001b[39;49m\u001b[43mengine\u001b[49m\u001b[38;5;241;43m.\u001b[39;49m\u001b[43mrun_event\u001b[49m\u001b[43m(\u001b[49m\u001b[43mEvent\u001b[49m\u001b[38;5;241;43m.\u001b[39;49m\u001b[43mEVAL_BATCH_END\u001b[49m\u001b[43m)\u001b[49m\n\u001b[1;32m   1961\u001b[0m \u001b[38;5;28mself\u001b[39m\u001b[38;5;241m.\u001b[39mlogger\u001b[38;5;241m.\u001b[39mdata_epoch({\u001b[38;5;124m\"\u001b[39m\u001b[38;5;124mepoch\u001b[39m\u001b[38;5;124m\"\u001b[39m: \u001b[38;5;28mself\u001b[39m\u001b[38;5;241m.\u001b[39mstate\u001b[38;5;241m.\u001b[39mtimestamp\u001b[38;5;241m.\u001b[39mepoch\u001b[38;5;241m.\u001b[39mvalue})\n\u001b[1;32m   1962\u001b[0m \u001b[38;5;28mself\u001b[39m\u001b[38;5;241m.\u001b[39mlogger\u001b[38;5;241m.\u001b[39mdata_batch({\u001b[38;5;124m\"\u001b[39m\u001b[38;5;124mtrainer/global_step\u001b[39m\u001b[38;5;124m\"\u001b[39m: \u001b[38;5;28mself\u001b[39m\u001b[38;5;241m.\u001b[39mstate\u001b[38;5;241m.\u001b[39mtimestamp\u001b[38;5;241m.\u001b[39mbatch\u001b[38;5;241m.\u001b[39mvalue})\n",
      "File \u001b[0;32m~/mambaforge/envs/pt/lib/python3.9/site-packages/composer/core/engine.py:240\u001b[0m, in \u001b[0;36mEngine.run_event\u001b[0;34m(self, event)\u001b[0m\n\u001b[1;32m    238\u001b[0m \u001b[38;5;28;01melse\u001b[39;00m:\n\u001b[1;32m    239\u001b[0m     traces \u001b[38;5;241m=\u001b[39m \u001b[38;5;28mself\u001b[39m\u001b[38;5;241m.\u001b[39m_run_algorithms(event)\n\u001b[0;32m--> 240\u001b[0m     \u001b[38;5;28;43mself\u001b[39;49m\u001b[38;5;241;43m.\u001b[39;49m\u001b[43m_run_callbacks\u001b[49m\u001b[43m(\u001b[49m\u001b[43mevent\u001b[49m\u001b[43m)\u001b[49m\n\u001b[1;32m    242\u001b[0m \u001b[38;5;28;01mif\u001b[39;00m event\u001b[38;5;241m.\u001b[39mis_before_event \u001b[38;5;129;01mand\u001b[39;00m duration_marker \u001b[38;5;129;01mis\u001b[39;00m \u001b[38;5;129;01mnot\u001b[39;00m \u001b[38;5;28;01mNone\u001b[39;00m:\n\u001b[1;32m    243\u001b[0m     duration_marker\u001b[38;5;241m.\u001b[39mstart()\n",
      "File \u001b[0;32m~/mambaforge/envs/pt/lib/python3.9/site-packages/composer/core/engine.py:360\u001b[0m, in \u001b[0;36mEngine._run_callbacks\u001b[0;34m(self, event)\u001b[0m\n\u001b[1;32m    358\u001b[0m ctx \u001b[38;5;241m=\u001b[39m cast(ContextManager, contextlib\u001b[38;5;241m.\u001b[39mnullcontext()) \u001b[38;5;28;01mif\u001b[39;00m marker \u001b[38;5;129;01mis\u001b[39;00m \u001b[38;5;28;01mNone\u001b[39;00m \u001b[38;5;28;01melse\u001b[39;00m marker\n\u001b[1;32m    359\u001b[0m \u001b[38;5;28;01mwith\u001b[39;00m ctx:\n\u001b[0;32m--> 360\u001b[0m     \u001b[43mcb\u001b[49m\u001b[38;5;241;43m.\u001b[39;49m\u001b[43mrun_event\u001b[49m\u001b[43m(\u001b[49m\u001b[43mevent\u001b[49m\u001b[43m,\u001b[49m\u001b[43m \u001b[49m\u001b[38;5;28;43mself\u001b[39;49m\u001b[38;5;241;43m.\u001b[39;49m\u001b[43mstate\u001b[49m\u001b[43m,\u001b[49m\u001b[43m \u001b[49m\u001b[38;5;28;43mself\u001b[39;49m\u001b[38;5;241;43m.\u001b[39;49m\u001b[43mlogger\u001b[49m\u001b[43m)\u001b[49m\n",
      "File \u001b[0;32m~/mambaforge/envs/pt/lib/python3.9/site-packages/composer/core/callback.py:100\u001b[0m, in \u001b[0;36mCallback.run_event\u001b[0;34m(self, event, state, logger)\u001b[0m\n\u001b[1;32m     92\u001b[0m \u001b[38;5;124;03m\"\"\"This method is called by the engine on each event.\u001b[39;00m\n\u001b[1;32m     93\u001b[0m \n\u001b[1;32m     94\u001b[0m \u001b[38;5;124;03mArgs:\u001b[39;00m\n\u001b[0;32m   (...)\u001b[0m\n\u001b[1;32m     97\u001b[0m \u001b[38;5;124;03m    logger (Logger): The logger.\u001b[39;00m\n\u001b[1;32m     98\u001b[0m \u001b[38;5;124;03m\"\"\"\u001b[39;00m\n\u001b[1;32m     99\u001b[0m event_cb \u001b[38;5;241m=\u001b[39m \u001b[38;5;28mgetattr\u001b[39m(\u001b[38;5;28mself\u001b[39m, event\u001b[38;5;241m.\u001b[39mvalue)\n\u001b[0;32m--> 100\u001b[0m \u001b[38;5;28;01mreturn\u001b[39;00m \u001b[43mevent_cb\u001b[49m\u001b[43m(\u001b[49m\u001b[43mstate\u001b[49m\u001b[43m,\u001b[49m\u001b[43m \u001b[49m\u001b[43mlogger\u001b[49m\u001b[43m)\u001b[49m\n",
      "Input \u001b[0;32mIn [12]\u001b[0m, in \u001b[0;36mLogPredictions.eval_batch_end\u001b[0;34m(self, state, logger)\u001b[0m\n\u001b[1;32m     11\u001b[0m \u001b[38;5;28;01mdef\u001b[39;00m \u001b[38;5;21meval_batch_end\u001b[39m(\u001b[38;5;28mself\u001b[39m, state: State, logger: Logger):\n\u001b[1;32m     12\u001b[0m     \u001b[38;5;124;03m\"\"\"Compute predictions per batch and stores them on self.data\"\"\"\u001b[39;00m\n\u001b[0;32m---> 14\u001b[0m     \u001b[38;5;28;01mif\u001b[39;00m \u001b[43mstate\u001b[49m\u001b[38;5;241;43m.\u001b[39;49m\u001b[43mepoch\u001b[49m \u001b[38;5;241m==\u001b[39m state\u001b[38;5;241m.\u001b[39mmax_duration: \u001b[38;5;66;03m#on last val epoch\u001b[39;00m\n\u001b[1;32m     15\u001b[0m         \u001b[38;5;28;01mif\u001b[39;00m \u001b[38;5;28mlen\u001b[39m(\u001b[38;5;28mself\u001b[39m\u001b[38;5;241m.\u001b[39mdata) \u001b[38;5;241m<\u001b[39m \u001b[38;5;28mself\u001b[39m\u001b[38;5;241m.\u001b[39mnum_samples:\n\u001b[1;32m     16\u001b[0m             n \u001b[38;5;241m=\u001b[39m \u001b[38;5;28mself\u001b[39m\u001b[38;5;241m.\u001b[39mnum_samples\n",
      "\u001b[0;31mAttributeError\u001b[0m: 'State' object has no attribute 'epoch'"
     ]
    }
   ],
   "source": [
    "trainer = Trainer(\n",
    "    model=model,\n",
    "    train_dataloader=train_dataloader,\n",
    "    eval_dataloader=eval_dataloader,\n",
    "    max_duration=f\"{EPOCHS}ep\",\n",
    "    loggers=loggers,\n",
    "    callbacks=callbacks,\n",
    "    optimizers=optim,\n",
    "    precision=\"amp\",\n",
    "    device=\"gpu\",\n",
    ")\n",
    "trainer.fit()"
   ]
  },
  {
   "cell_type": "markdown",
   "id": "c8a36c37-e390-4e86-b2f0-2ec4c390aa80",
   "metadata": {
    "tags": []
   },
   "source": [
    "## Going 🚀 with the Trainer\n",
    "We can try some of the magic algorithms from Mosaic"
   ]
  },
  {
   "cell_type": "code",
   "execution_count": 18,
   "id": "ee9a72a3-07cb-4785-a989-be54501a4138",
   "metadata": {},
   "outputs": [],
   "source": [
    "from composer.algorithms import LabelSmoothing, MixUp, ChannelsLast, ColOut, BlurPool, ProgressiveResizing, SAM\n",
    "from composer.optim import DecoupledAdamW, CosineAnnealingWithWarmupScheduler"
   ]
  },
  {
   "cell_type": "code",
   "execution_count": 19,
   "id": "2b470b0a-7534-43d2-95bb-fe6850352b77",
   "metadata": {},
   "outputs": [],
   "source": [
    "from composer.models import ComposerResNet\n",
    "model = ComposerResNet(ARCH, num_classes=10)"
   ]
  },
  {
   "cell_type": "markdown",
   "id": "e6bc0c66-33e4-48a7-806a-5e5206fa143c",
   "metadata": {},
   "source": [
    "Let's put some algorithms to improve training speed and performance!"
   ]
  },
  {
   "cell_type": "code",
   "execution_count": 20,
   "id": "c617ebd7-5c82-49f2-8c8e-78fc42986198",
   "metadata": {},
   "outputs": [],
   "source": [
    "optim = DecoupledAdamW(model.parameters(), lr=1e-3, weight_decay=1e-5)\n",
    "cosine_annel = CosineAnnealingWithWarmupScheduler('1ep', '1dur')"
   ]
  },
  {
   "cell_type": "code",
   "execution_count": 21,
   "id": "6a67bddd-1bc5-4e5c-8e5c-a4f1690f5140",
   "metadata": {},
   "outputs": [],
   "source": [
    "algorithms=[LabelSmoothing(), \n",
    "            BlurPool(),\n",
    "            ChannelsLast(),\n",
    "            ProgressiveResizing(),\n",
    "            SAM()\n",
    "            ]"
   ]
  },
  {
   "cell_type": "code",
   "execution_count": 22,
   "id": "0a9ffcd7-0a32-4426-98ea-ce9cc214ddd9",
   "metadata": {},
   "outputs": [],
   "source": [
    "# config params to log\n",
    "config = {\"epochs\":EPOCHS, \n",
    "          \"batch_size\":BS,\n",
    "          \"arch\":ARCH}\n",
    "\n",
    "init_params = {\"project\":\"composer\", \n",
    "               \"name\":\"performance\", \n",
    "               \"config\":config}\n",
    "\n",
    "# we pass the to the logger \n",
    "wandb_logger = WandBLogger(init_params=init_params)\n",
    "\n",
    "loggers = [progress_logger, wandb_logger]"
   ]
  },
  {
   "cell_type": "code",
   "execution_count": 23,
   "id": "57da9600-db4b-4a53-84d0-6bafe7daae0f",
   "metadata": {},
   "outputs": [
    {
     "data": {
      "text/html": [
       "Tracking run with wandb version 0.12.11"
      ],
      "text/plain": [
       "<IPython.core.display.HTML object>"
      ]
     },
     "metadata": {},
     "output_type": "display_data"
    },
    {
     "data": {
      "text/html": [
       "Run data is saved locally in <code>/home/paperspace/wandb/composer/wandb/run-20220405_155846-1r79j43l</code>"
      ],
      "text/plain": [
       "<IPython.core.display.HTML object>"
      ]
     },
     "metadata": {},
     "output_type": "display_data"
    },
    {
     "data": {
      "text/html": [
       "Syncing run <strong><a href=\"https://wandb.ai/capecape/composer/runs/1r79j43l\" target=\"_blank\">speed</a></strong> to <a href=\"https://wandb.ai/capecape/composer\" target=\"_blank\">Weights & Biases</a> (<a href=\"https://wandb.me/run\" target=\"_blank\">docs</a>)<br/>"
      ],
      "text/plain": [
       "<IPython.core.display.HTML object>"
      ]
     },
     "metadata": {},
     "output_type": "display_data"
    },
    {
     "data": {
      "application/vnd.jupyter.widget-view+json": {
       "model_id": "f45c64d381f64e73b44738061f693175",
       "version_major": 2,
       "version_minor": 0
      },
      "text/plain": [
       "Epoch 0:   0%|          | 0/148 [00:00<?, ?it/s]"
      ]
     },
     "metadata": {},
     "output_type": "display_data"
    },
    {
     "data": {
      "application/vnd.jupyter.widget-view+json": {
       "model_id": "2df76ba5a3cb4c9c8a2459ae10b65c36",
       "version_major": 2,
       "version_minor": 0
      },
      "text/plain": [
       "Epoch 1, Batch 148 (val):   0%|          | 0/31 [00:00<?, ?it/s]"
      ]
     },
     "metadata": {},
     "output_type": "display_data"
    },
    {
     "data": {
      "application/vnd.jupyter.widget-view+json": {
       "model_id": "dc18f7ef23334a14a29b1f8e92f46e20",
       "version_major": 2,
       "version_minor": 0
      },
      "text/plain": [
       "Epoch 1:   0%|          | 0/148 [00:00<?, ?it/s]"
      ]
     },
     "metadata": {},
     "output_type": "display_data"
    },
    {
     "data": {
      "application/vnd.jupyter.widget-view+json": {
       "model_id": "03db60efbf9148ee84cd99b30bdc9e3c",
       "version_major": 2,
       "version_minor": 0
      },
      "text/plain": [
       "Epoch 2, Batch 296 (val):   0%|          | 0/31 [00:00<?, ?it/s]"
      ]
     },
     "metadata": {},
     "output_type": "display_data"
    },
    {
     "data": {
      "application/vnd.jupyter.widget-view+json": {
       "model_id": "cabfa5c89eaa4409a67d90d621c19343",
       "version_major": 2,
       "version_minor": 0
      },
      "text/plain": [
       "Epoch 2:   0%|          | 0/148 [00:00<?, ?it/s]"
      ]
     },
     "metadata": {},
     "output_type": "display_data"
    },
    {
     "data": {
      "application/vnd.jupyter.widget-view+json": {
       "model_id": "df078ef1e2bc48c6b9ee82fc78544496",
       "version_major": 2,
       "version_minor": 0
      },
      "text/plain": [
       "Epoch 3, Batch 444 (val):   0%|          | 0/31 [00:00<?, ?it/s]"
      ]
     },
     "metadata": {},
     "output_type": "display_data"
    },
    {
     "data": {
      "application/vnd.jupyter.widget-view+json": {
       "model_id": "fe1b8463349d44faa6922f78b97986f3",
       "version_major": 2,
       "version_minor": 0
      },
      "text/plain": [
       "Epoch 3:   0%|          | 0/148 [00:00<?, ?it/s]"
      ]
     },
     "metadata": {},
     "output_type": "display_data"
    },
    {
     "data": {
      "application/vnd.jupyter.widget-view+json": {
       "model_id": "cac28cd10e934473935a88ab021898ab",
       "version_major": 2,
       "version_minor": 0
      },
      "text/plain": [
       "Epoch 4, Batch 592 (val):   0%|          | 0/31 [00:00<?, ?it/s]"
      ]
     },
     "metadata": {},
     "output_type": "display_data"
    },
    {
     "data": {
      "application/vnd.jupyter.widget-view+json": {
       "model_id": "d2a3b015fd92473c848284a6a299f9bd",
       "version_major": 2,
       "version_minor": 0
      },
      "text/plain": [
       "Epoch 4:   0%|          | 0/148 [00:00<?, ?it/s]"
      ]
     },
     "metadata": {},
     "output_type": "display_data"
    },
    {
     "data": {
      "application/vnd.jupyter.widget-view+json": {
       "model_id": "603bf788817241428d546a873bab19a1",
       "version_major": 2,
       "version_minor": 0
      },
      "text/plain": [
       "Epoch 5, Batch 740 (val):   0%|          | 0/31 [00:00<?, ?it/s]"
      ]
     },
     "metadata": {},
     "output_type": "display_data"
    },
    {
     "data": {
      "application/vnd.jupyter.widget-view+json": {
       "model_id": "9e3cbc461eff47119cf851db6ac2cfa8",
       "version_major": 2,
       "version_minor": 0
      },
      "text/plain": [
       "Epoch 5:   0%|          | 0/148 [00:00<?, ?it/s]"
      ]
     },
     "metadata": {},
     "output_type": "display_data"
    },
    {
     "data": {
      "application/vnd.jupyter.widget-view+json": {
       "model_id": "eaf4f274c66e468da5d0e444c5165b8e",
       "version_major": 2,
       "version_minor": 0
      },
      "text/plain": [
       "Epoch 6, Batch 888 (val):   0%|          | 0/31 [00:00<?, ?it/s]"
      ]
     },
     "metadata": {},
     "output_type": "display_data"
    },
    {
     "data": {
      "application/vnd.jupyter.widget-view+json": {
       "model_id": "058e2e9a41ea418dbc59d223dbbb8521",
       "version_major": 2,
       "version_minor": 0
      },
      "text/plain": [
       "Epoch 6:   0%|          | 0/148 [00:00<?, ?it/s]"
      ]
     },
     "metadata": {},
     "output_type": "display_data"
    },
    {
     "data": {
      "application/vnd.jupyter.widget-view+json": {
       "model_id": "736b6ac278ed4653ae633ce8dee485f3",
       "version_major": 2,
       "version_minor": 0
      },
      "text/plain": [
       "Epoch 7, Batch 1036 (val):   0%|          | 0/31 [00:00<?, ?it/s]"
      ]
     },
     "metadata": {},
     "output_type": "display_data"
    },
    {
     "data": {
      "application/vnd.jupyter.widget-view+json": {
       "model_id": "5fe023bcd8324fa1999fe4a8a4ec4ab3",
       "version_major": 2,
       "version_minor": 0
      },
      "text/plain": [
       "Epoch 7:   0%|          | 0/148 [00:00<?, ?it/s]"
      ]
     },
     "metadata": {},
     "output_type": "display_data"
    },
    {
     "data": {
      "application/vnd.jupyter.widget-view+json": {
       "model_id": "26a09ca1ae5e4b78804e14e569535207",
       "version_major": 2,
       "version_minor": 0
      },
      "text/plain": [
       "Epoch 8, Batch 1184 (val):   0%|          | 0/31 [00:00<?, ?it/s]"
      ]
     },
     "metadata": {},
     "output_type": "display_data"
    },
    {
     "data": {
      "application/vnd.jupyter.widget-view+json": {
       "model_id": "0d64a2d3931c43f89f5e6891d5669ce8",
       "version_major": 2,
       "version_minor": 0
      },
      "text/plain": [
       "Epoch 8:   0%|          | 0/148 [00:00<?, ?it/s]"
      ]
     },
     "metadata": {},
     "output_type": "display_data"
    },
    {
     "data": {
      "application/vnd.jupyter.widget-view+json": {
       "model_id": "8da59335813d4a61a7b082e27ba01ab8",
       "version_major": 2,
       "version_minor": 0
      },
      "text/plain": [
       "Epoch 9, Batch 1332 (val):   0%|          | 0/31 [00:00<?, ?it/s]"
      ]
     },
     "metadata": {},
     "output_type": "display_data"
    },
    {
     "data": {
      "application/vnd.jupyter.widget-view+json": {
       "model_id": "d485869cd88b4c1cabc105bbbafa6489",
       "version_major": 2,
       "version_minor": 0
      },
      "text/plain": [
       "Epoch 9:   0%|          | 0/148 [00:00<?, ?it/s]"
      ]
     },
     "metadata": {},
     "output_type": "display_data"
    },
    {
     "data": {
      "application/vnd.jupyter.widget-view+json": {
       "model_id": "d9f6b375b31a4a35ab0ce2e81dc243ad",
       "version_major": 2,
       "version_minor": 0
      },
      "text/plain": [
       "Epoch 10, Batch 1480 (val):   0%|          | 0/31 [00:00<?, ?it/s]"
      ]
     },
     "metadata": {},
     "output_type": "display_data"
    },
    {
     "data": {
      "application/vnd.jupyter.widget-view+json": {
       "model_id": "822573e0c3084fc4b22b0518e1651b5d",
       "version_major": 2,
       "version_minor": 0
      },
      "text/plain": [
       "Epoch 10:   0%|          | 0/148 [00:00<?, ?it/s]"
      ]
     },
     "metadata": {},
     "output_type": "display_data"
    },
    {
     "data": {
      "application/vnd.jupyter.widget-view+json": {
       "model_id": "9586bfff07d34927a9d902fc483c6106",
       "version_major": 2,
       "version_minor": 0
      },
      "text/plain": [
       "Epoch 11, Batch 1628 (val):   0%|          | 0/31 [00:00<?, ?it/s]"
      ]
     },
     "metadata": {},
     "output_type": "display_data"
    },
    {
     "data": {
      "application/vnd.jupyter.widget-view+json": {
       "model_id": "595c3c35ea5f459a839951cc23098cb3",
       "version_major": 2,
       "version_minor": 0
      },
      "text/plain": [
       "Epoch 11:   0%|          | 0/148 [00:00<?, ?it/s]"
      ]
     },
     "metadata": {},
     "output_type": "display_data"
    },
    {
     "data": {
      "application/vnd.jupyter.widget-view+json": {
       "model_id": "8dd460012bde43aeadd230869cf3e2ba",
       "version_major": 2,
       "version_minor": 0
      },
      "text/plain": [
       "Epoch 12, Batch 1776 (val):   0%|          | 0/31 [00:00<?, ?it/s]"
      ]
     },
     "metadata": {},
     "output_type": "display_data"
    },
    {
     "data": {
      "application/vnd.jupyter.widget-view+json": {
       "model_id": "5fea106c35ac41feae77f09dcf560ab3",
       "version_major": 2,
       "version_minor": 0
      },
      "text/plain": [
       "Epoch 12:   0%|          | 0/148 [00:00<?, ?it/s]"
      ]
     },
     "metadata": {},
     "output_type": "display_data"
    },
    {
     "data": {
      "application/vnd.jupyter.widget-view+json": {
       "model_id": "22aa275f63d548f3a3ea044fc026df42",
       "version_major": 2,
       "version_minor": 0
      },
      "text/plain": [
       "Epoch 13, Batch 1924 (val):   0%|          | 0/31 [00:00<?, ?it/s]"
      ]
     },
     "metadata": {},
     "output_type": "display_data"
    },
    {
     "data": {
      "application/vnd.jupyter.widget-view+json": {
       "model_id": "9a29de2789d941c3a2928a1c5779e8c8",
       "version_major": 2,
       "version_minor": 0
      },
      "text/plain": [
       "Epoch 13:   0%|          | 0/148 [00:00<?, ?it/s]"
      ]
     },
     "metadata": {},
     "output_type": "display_data"
    },
    {
     "data": {
      "application/vnd.jupyter.widget-view+json": {
       "model_id": "cfffa9fc3cdc41e8b8c7bcabe3e0553d",
       "version_major": 2,
       "version_minor": 0
      },
      "text/plain": [
       "Epoch 14, Batch 2072 (val):   0%|          | 0/31 [00:00<?, ?it/s]"
      ]
     },
     "metadata": {},
     "output_type": "display_data"
    },
    {
     "data": {
      "application/vnd.jupyter.widget-view+json": {
       "model_id": "a1423136243b4594b71a39a455b10dfd",
       "version_major": 2,
       "version_minor": 0
      },
      "text/plain": [
       "Epoch 14:   0%|          | 0/148 [00:00<?, ?it/s]"
      ]
     },
     "metadata": {},
     "output_type": "display_data"
    },
    {
     "data": {
      "application/vnd.jupyter.widget-view+json": {
       "model_id": "854f7aeb0f4948aeb8cd01e34cde989d",
       "version_major": 2,
       "version_minor": 0
      },
      "text/plain": [
       "Epoch 15, Batch 2220 (val):   0%|          | 0/31 [00:00<?, ?it/s]"
      ]
     },
     "metadata": {},
     "output_type": "display_data"
    },
    {
     "data": {
      "application/vnd.jupyter.widget-view+json": {
       "model_id": "495ca66211f54bb49beea280e0faaf7b",
       "version_major": 2,
       "version_minor": 0
      },
      "text/plain": [
       "Epoch 15:   0%|          | 0/148 [00:00<?, ?it/s]"
      ]
     },
     "metadata": {},
     "output_type": "display_data"
    },
    {
     "data": {
      "application/vnd.jupyter.widget-view+json": {
       "model_id": "401f02499dea4d8d805391cabb944c3e",
       "version_major": 2,
       "version_minor": 0
      },
      "text/plain": [
       "Epoch 16, Batch 2368 (val):   0%|          | 0/31 [00:00<?, ?it/s]"
      ]
     },
     "metadata": {},
     "output_type": "display_data"
    },
    {
     "data": {
      "application/vnd.jupyter.widget-view+json": {
       "model_id": "0c8a62ed231e458eb9a3949a491a1113",
       "version_major": 2,
       "version_minor": 0
      },
      "text/plain": [
       "Epoch 16:   0%|          | 0/148 [00:00<?, ?it/s]"
      ]
     },
     "metadata": {},
     "output_type": "display_data"
    },
    {
     "data": {
      "application/vnd.jupyter.widget-view+json": {
       "model_id": "bc7ab3a4999e4dfab63ad3b94027d472",
       "version_major": 2,
       "version_minor": 0
      },
      "text/plain": [
       "Epoch 17, Batch 2516 (val):   0%|          | 0/31 [00:00<?, ?it/s]"
      ]
     },
     "metadata": {},
     "output_type": "display_data"
    },
    {
     "data": {
      "application/vnd.jupyter.widget-view+json": {
       "model_id": "b73e48b4ed5343969d131b08acdeab89",
       "version_major": 2,
       "version_minor": 0
      },
      "text/plain": [
       "Epoch 17:   0%|          | 0/148 [00:00<?, ?it/s]"
      ]
     },
     "metadata": {},
     "output_type": "display_data"
    },
    {
     "data": {
      "application/vnd.jupyter.widget-view+json": {
       "model_id": "e7b4ff21255849a188e68f4574cce024",
       "version_major": 2,
       "version_minor": 0
      },
      "text/plain": [
       "Epoch 18, Batch 2664 (val):   0%|          | 0/31 [00:00<?, ?it/s]"
      ]
     },
     "metadata": {},
     "output_type": "display_data"
    },
    {
     "data": {
      "application/vnd.jupyter.widget-view+json": {
       "model_id": "a6103916b5a8469da34597864d5ae2e2",
       "version_major": 2,
       "version_minor": 0
      },
      "text/plain": [
       "Epoch 18:   0%|          | 0/148 [00:00<?, ?it/s]"
      ]
     },
     "metadata": {},
     "output_type": "display_data"
    },
    {
     "data": {
      "application/vnd.jupyter.widget-view+json": {
       "model_id": "18ff6a9466d7477a94e1dd35b6d40809",
       "version_major": 2,
       "version_minor": 0
      },
      "text/plain": [
       "Epoch 19, Batch 2812 (val):   0%|          | 0/31 [00:00<?, ?it/s]"
      ]
     },
     "metadata": {},
     "output_type": "display_data"
    },
    {
     "data": {
      "application/vnd.jupyter.widget-view+json": {
       "model_id": "71993f7bba804119be82b5e8e6efcca2",
       "version_major": 2,
       "version_minor": 0
      },
      "text/plain": [
       "Epoch 19:   0%|          | 0/148 [00:00<?, ?it/s]"
      ]
     },
     "metadata": {},
     "output_type": "display_data"
    },
    {
     "data": {
      "application/vnd.jupyter.widget-view+json": {
       "model_id": "513426509af040a18607745be48098a5",
       "version_major": 2,
       "version_minor": 0
      },
      "text/plain": [
       "Epoch 20, Batch 2960 (val):   0%|          | 0/31 [00:00<?, ?it/s]"
      ]
     },
     "metadata": {},
     "output_type": "display_data"
    },
    {
     "name": "stdout",
     "output_type": "stream",
     "text": [
      "\n"
     ]
    },
    {
     "data": {
      "text/html": [
       "Waiting for W&B process to finish... <strong style=\"color:green\">(success).</strong>"
      ],
      "text/plain": [
       "<IPython.core.display.HTML object>"
      ]
     },
     "metadata": {},
     "output_type": "display_data"
    },
    {
     "data": {
      "application/vnd.jupyter.widget-view+json": {
       "model_id": "",
       "version_major": 2,
       "version_minor": 0
      },
      "text/plain": [
       "VBox(children=(Label(value='9.142 MB of 9.142 MB uploaded (0.000 MB deduped)\\r'), FloatProgress(value=1.0, max…"
      ]
     },
     "metadata": {},
     "output_type": "display_data"
    },
    {
     "data": {
      "text/html": [
       "<style>\n",
       "    table.wandb td:nth-child(1) { padding: 0 10px; text-align: right }\n",
       "    .wandb-row { display: flex; flex-direction: row; flex-wrap: wrap; width: 100% }\n",
       "    .wandb-col { display: flex; flex-direction: column; flex-basis: 100%; flex: 1; padding: 10px; }\n",
       "    </style>\n",
       "<div class=\"wandb-row\"><div class=\"wandb-col\"><h3>Run history:</h3><br/><table class=\"wandb\"><tr><td><composer.algorithms.blurpool.blurpool.BlurPool object at 0x7f9a3e84da00>/Event.INIT</td><td>▁</td></tr><tr><td><composer.algorithms.channels_last.channels_last.ChannelsLast object at 0x7f9a3e84d850>/Event.INIT</td><td>▁</td></tr><tr><td><composer.algorithms.label_smoothing.label_smoothing.LabelSmoothing object at 0x7f9a3e84d940>/Event.AFTER_LOSS</td><td>▁▁▁▁▁▁▁▁▁▁▁▁▁▁▁▁▁▁▁▁▁▁▁▁▁▁▁▁▁▁▁▁▁▁▁▁▁▁▁▁</td></tr><tr><td><composer.algorithms.label_smoothing.label_smoothing.LabelSmoothing object at 0x7f9a3e84d940>/Event.BEFORE_LOSS</td><td>▁▁▁▁▁▁▁▁▁▁▁▁▁▁▁▁▁▁▁▁▁▁▁▁▁▁▁▁▁▁▁▁▁▁▁▁▁▁▁▁</td></tr><tr><td><composer.algorithms.progressive_resizing.progressive_resizing.ProgressiveResizing object at 0x7f9a3e84d880>/Event.AFTER_DATALOADER</td><td>▁▁▁▁▁▁▁▁▁▁▁▁▁▁▁▁▁▁▁▁▁▁▁▁▁▁▁▁▁▁▁▁▁▁▁▁▁▁▁▁</td></tr><tr><td><composer.algorithms.sam.sam.SAM object at 0x7f9a3e84d8e0>/Event.INIT</td><td>▁</td></tr><tr><td>accuracy/val</td><td>▁▃▃▄▄▅▆▆▆▆▇▇▇███████</td></tr><tr><td>blurpool/num_blurconv_layers</td><td>▁</td></tr><tr><td>blurpool/num_blurpool_layers</td><td>▁</td></tr><tr><td>crossentropyloss/val</td><td>█▆▆▆▅▄▃▃▃▃▂▂▂▁▁▁▁▁▁▁</td></tr><tr><td>epoch</td><td>▁▁▂▂▂▃▃▃▄▄▅▅▅▆▆▆▇▇▇██</td></tr><tr><td>loss/train</td><td>█▇▆▆▄▅▄▄▄▄▄▄▄▄▄▃▃▃▃▃▃▃▂▂▂▂▂▂▁▂▁▁▁▁▁▁▁▁▁▁</td></tr><tr><td>lr-SAMOptimizer/group0</td><td>▃▆███████▇▇▇▇▇▆▆▆▆▅▅▅▄▄▄▃▃▃▃▂▂▂▂▂▁▁▁▁▁▁▁</td></tr><tr><td>progressive_resizing/height</td><td>▁▁▁▁▂▂▂▂▃▃▃▃▄▄▄▄▅▅▅▅▅▅▆▆▆▆▇▇▇▇██████████</td></tr><tr><td>progressive_resizing/scale_factor</td><td>▁▁▁▁▂▂▂▂▃▃▃▃▄▄▄▄▅▅▅▅▅▅▆▆▆▆▇▇▇▇██████████</td></tr><tr><td>progressive_resizing/width</td><td>▁▁▁▁▂▂▂▂▃▃▃▃▄▄▄▄▅▅▅▅▅▅▆▆▆▆▇▇▇▇██████████</td></tr><tr><td>throughput/epoch</td><td>█▇▇▇▇▆▅▅▄▃▃▃▃▂▂▁▁▁▁▁</td></tr><tr><td>throughput/step</td><td>██▇▇▇▇▇▇▇▇▆▆▅▅▅▅▄▄▃▃▃▃▃▃▃▃▂▂▂▂▁▁▁▁▁▁▁▁▁▁</td></tr><tr><td>trainer/batch_idx</td><td>▂▆▁▇▂▅▂▆▁▇▂▆▃▆▁▇▂▆▃▇▂▇▂▆▃▇▂█▃▆▃▇▂█▃▇▄▇▂█</td></tr><tr><td>trainer/global_step</td><td>▁▁▁▂▂▂▂▂▂▃▃▃▃▃▃▄▄▄▄▄▅▅▅▅▅▅▆▆▆▆▆▇▇▇▇▇▇███</td></tr><tr><td>wall_clock_train</td><td>▁▁▂▂▂▂▃▃▃▄▄▄▅▅▆▆▇▇██</td></tr></table><br/></div><div class=\"wandb-col\"><h3>Run summary:</h3><br/><table class=\"wandb\"><tr><td><composer.algorithms.blurpool.blurpool.BlurPool object at 0x7f9a3e84da00>/Event.INIT</td><td>1</td></tr><tr><td><composer.algorithms.channels_last.channels_last.ChannelsLast object at 0x7f9a3e84d850>/Event.INIT</td><td>1</td></tr><tr><td><composer.algorithms.label_smoothing.label_smoothing.LabelSmoothing object at 0x7f9a3e84d940>/Event.AFTER_LOSS</td><td>1</td></tr><tr><td><composer.algorithms.label_smoothing.label_smoothing.LabelSmoothing object at 0x7f9a3e84d940>/Event.BEFORE_LOSS</td><td>1</td></tr><tr><td><composer.algorithms.progressive_resizing.progressive_resizing.ProgressiveResizing object at 0x7f9a3e84d880>/Event.AFTER_DATALOADER</td><td>1</td></tr><tr><td><composer.algorithms.sam.sam.SAM object at 0x7f9a3e84d8e0>/Event.INIT</td><td>1</td></tr><tr><td>accuracy/val</td><td>0.84815</td></tr><tr><td>blurpool/num_blurconv_layers</td><td>6</td></tr><tr><td>blurpool/num_blurpool_layers</td><td>1</td></tr><tr><td>crossentropyloss/val</td><td>0.54488</td></tr><tr><td>epoch</td><td>20</td></tr><tr><td>loss/train</td><td>0.54905</td></tr><tr><td>lr-SAMOptimizer/group0</td><td>0.0</td></tr><tr><td>progressive_resizing/height</td><td>256</td></tr><tr><td>progressive_resizing/scale_factor</td><td>1.0</td></tr><tr><td>progressive_resizing/width</td><td>256</td></tr><tr><td>throughput/epoch</td><td>305.74875</td></tr><tr><td>throughput/step</td><td>317.24156</td></tr><tr><td>trainer/batch_idx</td><td>147</td></tr><tr><td>trainer/global_step</td><td>2960</td></tr><tr><td>wall_clock_train</td><td>921.59546</td></tr></table><br/></div></div>"
      ],
      "text/plain": [
       "<IPython.core.display.HTML object>"
      ]
     },
     "metadata": {},
     "output_type": "display_data"
    },
    {
     "data": {
      "text/html": [
       "Synced <strong style=\"color:#cdcd00\">speed</strong>: <a href=\"https://wandb.ai/capecape/composer/runs/1r79j43l\" target=\"_blank\">https://wandb.ai/capecape/composer/runs/1r79j43l</a><br/>Synced 5 W&B file(s), 20 media file(s), 101 artifact file(s) and 0 other file(s)"
      ],
      "text/plain": [
       "<IPython.core.display.HTML object>"
      ]
     },
     "metadata": {},
     "output_type": "display_data"
    },
    {
     "data": {
      "text/html": [
       "Find logs at: <code>./wandb/run-20220405_155846-1r79j43l/logs</code>"
      ],
      "text/plain": [
       "<IPython.core.display.HTML object>"
      ]
     },
     "metadata": {},
     "output_type": "display_data"
    }
   ],
   "source": [
    "trainer = Trainer(\n",
    "    model=model,\n",
    "    train_dataloader=train_dataloader,\n",
    "    eval_dataloader=eval_dataloader,\n",
    "    max_duration=f\"{EPOCHS}ep\",\n",
    "    loggers=loggers,\n",
    "    callbacks=callbacks,\n",
    "    optimizers=optim,\n",
    "    schedulers=cosine_annel,\n",
    "    algorithms=algorithms,\n",
    "    precision=\"amp\",\n",
    "    device=\"gpu\",\n",
    ")\n",
    "trainer.fit()"
   ]
  },
  {
   "cell_type": "code",
   "execution_count": 24,
   "id": "aa89ea16-6bdb-49a7-9cb1-f4ef3da63b8a",
   "metadata": {},
   "outputs": [],
   "source": [
    "wandb.finish()"
   ]
  },
  {
   "cell_type": "markdown",
   "id": "05a62cec-c7ab-4f93-9a6e-2f218fff2003",
   "metadata": {},
   "source": [
    "# Fastai"
   ]
  },
  {
   "cell_type": "markdown",
   "id": "64dd80f7-7bd9-4f8f-b591-621f5c1d8828",
   "metadata": {},
   "source": [
    "Let's compare to another framework that has best practices baked in."
   ]
  },
  {
   "cell_type": "code",
   "execution_count": null,
   "id": "224f92f6-76c6-432b-b17e-9bce07e44644",
   "metadata": {},
   "outputs": [],
   "source": [
    "import wandb\n",
    "from fastai.vision.all import *\n",
    "from fastai.callback.wandb import WandbCallback"
   ]
  },
  {
   "cell_type": "code",
   "execution_count": null,
   "id": "be8ba5ce-bc36-4196-aea4-84a30d7da879",
   "metadata": {},
   "outputs": [],
   "source": [
    "dls = ImageDataLoaders.from_folder(imagenette_path, train=\"train\", valid=\"val\", \n",
    "                                   bs=BS, val_bs=2*BS, item_tfms=Resize(256))"
   ]
  },
  {
   "cell_type": "code",
   "execution_count": null,
   "id": "f72e7133-3a67-4ee3-9b3d-586b045b590e",
   "metadata": {},
   "outputs": [],
   "source": [
    "with wandb.init(project=\"composer\", name=\"fastai\"):\n",
    "    cbs = [MixedPrecision(), WandbCallback(log_preds=False)]\n",
    "    learn = cnn_learner(dls, getattr(tv.models, ARCH), \n",
    "                        metrics=[accuracy], \n",
    "                        loss_func=LabelSmoothingCrossEntropyFlat(),\n",
    "                        cbs=cbs, pretrained=False)\n",
    "    learn.fit_one_cycle(EPOCHS, 1e-3)"
   ]
  },
  {
   "cell_type": "code",
   "execution_count": null,
   "id": "950118aa-0b9c-4576-80ea-24e14e29dd8e",
   "metadata": {},
   "outputs": [],
   "source": []
  }
 ],
 "metadata": {
  "kernelspec": {
   "display_name": "pt",
   "language": "python",
   "name": "pt"
  },
  "language_info": {
   "codemirror_mode": {
    "name": "ipython",
    "version": 3
   },
   "file_extension": ".py",
   "mimetype": "text/x-python",
   "name": "python",
   "nbconvert_exporter": "python",
   "pygments_lexer": "ipython3",
   "version": "3.9.9"
  }
 },
 "nbformat": 4,
 "nbformat_minor": 5
}
