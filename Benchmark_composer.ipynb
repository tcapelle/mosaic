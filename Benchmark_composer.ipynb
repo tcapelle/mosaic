{
 "cells": [
  {
   "cell_type": "markdown",
   "id": "73de53e5-9e46-4edd-a64c-9778c3f7285e",
   "metadata": {
    "colab_type": "text",
    "id": "view-in-github"
   },
   "source": [
    "<a href=\"https://colab.research.google.com/github/tcapelle/mosaic/blob/master/MosaicML_Composer_and_wandb.ipynb\" target=\"_parent\"><img src=\"https://colab.research.google.com/assets/colab-badge.svg\" alt=\"Open In Colab\"/></a><!--- @wandbcode{mosaicml} -->"
   ]
  },
  {
   "cell_type": "markdown",
   "id": "910a2eb0-65b5-4b6c-971a-19bf8121ab13",
   "metadata": {},
   "source": [
    "<img src=\"https://wandb.me/logo-im-png\" width=\"400\" alt=\"Weights & Biases\" />\n",
    "<img src=\"https://raw.githubusercontent.com/mosaicml/composer/dev/docs/source/_static/images/header_dark.svg\" width=\"400\" alt=\"mosaicml\" />\n",
    "\n",
    "<!--- @wandbcode{lit_colab_boris} -->\n",
    "\n",
    "# Running fast with MosaicML Composer and Weight and Biases"
   ]
  },
  {
   "cell_type": "markdown",
   "id": "4961c393-0154-4937-98d7-16e472b9a0d3",
   "metadata": {},
   "source": [
    "[MosaicML Composer](https://docs.mosaicml.com) is a library for training neural networks better, faster, and cheaper. It contains many state-of-the-art methods for accelerating neural network training and improving generalization, along with an optional Trainer API that makes composing many different enhancements easy.\n",
    "\n",
    "Coupled with [Weights & Biases integration](https://docs.mosaicml.com/en/v0.5.0/trainer/logging.html), you can quickly train and monitor models for full traceability and reproducibility with only 2 extra lines of code:\n",
    "\n",
    "```python\n",
    "from composer.loggers import WandBLogger\n",
    "wandb_logger = WandBLogger()\n",
    "```"
   ]
  },
  {
   "cell_type": "markdown",
   "id": "4ec877f6-57aa-4423-ae4b-f85769c59dd6",
   "metadata": {},
   "source": [
    "W&B integration with Composer can automatically:\n",
    "* log your configuration parameters\n",
    "* log your losses and metrics\n",
    "* log gradients and parameter distributions\n",
    "* log your model\n",
    "* keep track of your code\n",
    "* log your system metrics (GPU, CPU, memory, temperature, etc)"
   ]
  },
  {
   "cell_type": "markdown",
   "id": "092b0104-530a-438d-bd68-08f627cc8920",
   "metadata": {
    "tags": []
   },
   "source": [
    "### 🛠️ Installation and set-up\n",
    "\n",
    "We need to install the following libraries:\n",
    "* [mosaicml-composer](https://docs.mosaicml.com/en/v0.5.0/getting_started/installation.html) to set up and train our models\n",
    "* [wandb](https://docs.wandb.ai/) to instrument our training"
   ]
  },
  {
   "cell_type": "code",
   "execution_count": 22,
   "id": "56bbcb21-babd-488b-a20d-080f43f09897",
   "metadata": {},
   "outputs": [],
   "source": [
    "# !pip install wandb mosaicml fastcore"
   ]
  },
  {
   "cell_type": "markdown",
   "id": "39e54ec9-51b6-4f49-9ea1-2ed82f03add3",
   "metadata": {},
   "source": [
    "## Getting Started with Composer 🔥"
   ]
  },
  {
   "cell_type": "markdown",
   "id": "a2e0f570-d323-4ecf-bdb3-1469730f562b",
   "metadata": {},
   "source": [
    "Composer gives you access to a set of functions to speedup your models and infuse them with state of the art methods. For instance, you can insert [BlurPool](https://docs.mosaicml.com/en/latest/method_cards/blurpool.html) into your CNN by calling `CF.apply_blurpool(model)` into your PyTorch model. Take a look at all the [functional](https://docs.mosaicml.com/en/latest/functional_api.html) methods available."
   ]
  },
  {
   "cell_type": "code",
   "execution_count": 23,
   "id": "55d71a76-7354-43ee-87c1-a83aa88b0b69",
   "metadata": {},
   "outputs": [
    {
     "name": "stderr",
     "output_type": "stream",
     "text": [
      "INFO:composer.utils.module_surgery:optimizers was not provided. Be sure to either create the optimizer after\n",
      "invoking this method, or manually add new parameters to the existing optimizer.\n",
      "INFO:composer.algorithms.blurpool.blurpool:Applied BlurPool to model ResNet. Model now has 1 BlurMaxPool2d and 6 BlurConv2D layers.\n",
      "INFO:composer.utils.module_surgery:optimizers was not provided. Be sure to either create the optimizer after\n",
      "invoking this method, or manually add new parameters to the existing optimizer.\n"
     ]
    }
   ],
   "source": [
    "import logging\n",
    "from fastcore.all import *\n",
    "from composer import functional as CF\n",
    "import torchvision.models as models\n",
    "\n",
    "logging.basicConfig(level=logging.INFO)\n",
    "model = models.resnet50()\n",
    "\n",
    "# replace some layers with blurpool\n",
    "CF.apply_blurpool(model);\n",
    "# replace some layers with squeeze-excite\n",
    "CF.apply_squeeze_excite(model, latent_channels=64, min_channels=128);"
   ]
  },
  {
   "cell_type": "markdown",
   "id": "642eb0d5-b4f6-4add-9d59-235222bc2236",
   "metadata": {
    "tags": []
   },
   "source": [
    "## Using the `Trainer` class with Weights and Biases 🏋️‍♀️\n",
    "\n",
    "W&B integration with MosaicML-Composer is built into the `Trainer` and can be configured to add extra functionalities through `WandBLogger`:\n",
    "\n",
    "* logging of Artifacts: Use `log_artifacts=True` to log model checkpoints as `wandb.Artifacts`. You can setup how often by passing an int value to `log_artifacts_every_n_batches` (default = 100)\n",
    "* you can also pass any parameter that you would pass to `wandb.init` in `init_params` as a dictionary. For example, you could pass `init_params = {\"project\":\"try_mosaicml\", \"name\":\"benchmark\", \"entity\":\"user_name\"}`.\n",
    "\n",
    "For more details refer to [Logger documentation](https://docs.mosaicml.com/en/latest/api_reference/composer.loggers.wandb_logger.html#composer.loggers.wandb_logger.WandBLogger) and [Wandb docs](https://docs.wandb.ai)"
   ]
  },
  {
   "cell_type": "markdown",
   "id": "9d98dee3-4a8f-4ac4-b92a-46ea279c9be2",
   "metadata": {},
   "source": [
    "Let's grab fastai's [Imagenette dataset](https://github.com/fastai/imagenette) and decompress it"
   ]
  },
  {
   "cell_type": "code",
   "execution_count": 24,
   "id": "caecb6eb-25b9-4daf-a1d2-465fecf98ef7",
   "metadata": {},
   "outputs": [],
   "source": [
    "EPOCHS = 20\n",
    "BS = 64"
   ]
  },
  {
   "cell_type": "code",
   "execution_count": 25,
   "id": "04b15541-9f20-4979-a24f-145546881641",
   "metadata": {},
   "outputs": [],
   "source": [
    "if not Path('imagenette2.tgz').exists():\n",
    "    URL = 'https://s3.amazonaws.com/fast-ai-imageclas/imagenette2.tgz'\n",
    "    !wget {URL}\n",
    "    imagenette_path = untar_dir(\"imagenette2.tgz\", Path(\".\"))\n",
    "else:\n",
    "    imagenette_path = Path('imagenette2')"
   ]
  },
  {
   "cell_type": "code",
   "execution_count": 83,
   "id": "a222b9eb-4a30-4356-bcd7-38a6f08f1c76",
   "metadata": {},
   "outputs": [],
   "source": [
    "import torchvision as tv\n",
    "\n",
    "class Imagenette:\n",
    "    def __init__(self, path, train=True, transform=None):\n",
    "        path = Path(path) / (\"train\" if train else \"val\")\n",
    "        self.transform = transform\n",
    "        self.files = list(path.glob(\"**/*.JPEG\"))\n",
    "        self.classes = {label.name:i for i, label in enumerate(path.iterdir())}\n",
    "        \n",
    "    def __getitem__(self, idx):\n",
    "        file_path = self.files[idx]\n",
    "        image = self.transform(tv.io.read_image(str(file_path), \n",
    "                                             mode=tv.io.image.ImageReadMode.RGB)) \n",
    "        label = self.classes[file_path.parent.name]\n",
    "        return image, label\n",
    "            \n",
    "    def __len__(self):\n",
    "        return len(self.files)"
   ]
  },
  {
   "cell_type": "code",
   "execution_count": 84,
   "id": "93fbba13-dbb9-436e-8237-fa60f0e54675",
   "metadata": {},
   "outputs": [],
   "source": [
    "import torch\n",
    "import torchvision.transforms as T\n",
    "from torchvision import datasets\n",
    "from torch.utils.data import DataLoader\n",
    "\n",
    "from composer import Trainer"
   ]
  },
  {
   "cell_type": "code",
   "execution_count": 85,
   "id": "5424e4bf-bd7c-43ff-8a04-2d4e5e13afb5",
   "metadata": {},
   "outputs": [
    {
     "name": "stdout",
     "output_type": "stream",
     "text": [
      "train/val:  9469 3925\n"
     ]
    }
   ],
   "source": [
    "imagenet_stats = [0.485, 0.456, 0.406], [0.229, 0.224, 0.225]\n",
    "transform = T.Compose([T.CenterCrop(256), \n",
    "                                T.ConvertImageDtype(torch.float),\n",
    "                                T.Normalize(*imagenet_stats)\n",
    "                               ])\n",
    "train_dataset = Imagenette(imagenette_path, train=True, transform=transform)\n",
    "eval_dataset = Imagenette(imagenette_path, train=False, transform=transform)\n",
    "\n",
    "print(\"train/val: \",len(train_dataset), len(eval_dataset))\n",
    "\n",
    "train_dataloader = DataLoader(train_dataset, shuffle=True, batch_size=BS, num_workers=8)\n",
    "eval_dataloader = DataLoader(eval_dataset, batch_size=2*BS, num_workers=8)"
   ]
  },
  {
   "cell_type": "markdown",
   "id": "dd120bee-0964-4e8f-8341-491b328ae974",
   "metadata": {},
   "source": [
    "Let's create a simple model based on a `resnet18` from torchvision"
   ]
  },
  {
   "cell_type": "code",
   "execution_count": 86,
   "id": "5656bdcf-399f-408b-8368-a546d0fe6572",
   "metadata": {},
   "outputs": [],
   "source": [
    "import torchmetrics\n",
    "import torch.nn.functional as F\n",
    "from composer.models import ComposerModel\n",
    "from torchvision.models import resnet18\n",
    "\n",
    "class ResNet18(ComposerModel):\n",
    "\n",
    "    def __init__(self, num_classes):\n",
    "        super().__init__()\n",
    "        self.model = resnet18(num_classes=num_classes)\n",
    "        self.train_accuracy = torchmetrics.Accuracy()\n",
    "        self.val_accuracy = torchmetrics.Accuracy()\n",
    "\n",
    "    def forward(self, batch): # batch is the output of the dataloader\n",
    "        # specify how batches are passed through the model\n",
    "        inputs, _ = batch\n",
    "        return self.model(inputs)\n",
    "\n",
    "    def loss(self, outputs, batch):\n",
    "        # pass batches and `forward` outputs to the loss\n",
    "        _, targets = batch\n",
    "        return F.cross_entropy(outputs, targets)\n",
    "    \n",
    "    def validate(self, batch):\n",
    "\n",
    "        inputs, targets = batch\n",
    "        outputs = self.model(inputs)\n",
    "        return outputs, targets\n",
    "    \n",
    "    def metrics(self, train=False):\n",
    "        # defines which metrics to use in each phase of training\n",
    "        return self.train_accuracy if train else self.val_accuracy\n",
    "    \n",
    "model = ResNet18(10)"
   ]
  },
  {
   "cell_type": "markdown",
   "id": "baa820b1-12bb-43c8-ae7c-5cea24b69c35",
   "metadata": {},
   "source": [
    "we define the `wandb.init` params here"
   ]
  },
  {
   "cell_type": "code",
   "execution_count": 87,
   "id": "cd3d846b-e438-461f-9346-5818f64a180e",
   "metadata": {},
   "outputs": [],
   "source": [
    "from composer.loggers import WandBLogger, TQDMLogger"
   ]
  },
  {
   "cell_type": "code",
   "execution_count": 88,
   "id": "c4424591-cd28-4af2-987b-be0588a99a8e",
   "metadata": {},
   "outputs": [],
   "source": [
    "init_params = {\"project\":\"composer\", \n",
    "               \"name\":\"imagenette_baseline\"}\n",
    "\n",
    "# we pass the to the logger \n",
    "wandb_logger = WandBLogger(init_params=init_params)\n",
    "\n",
    "# we also add progressbar logging\n",
    "progress_logger = TQDMLogger()\n",
    "\n",
    "loggers = [progress_logger, wandb_logger]"
   ]
  },
  {
   "cell_type": "markdown",
   "id": "2f2b5740-7736-4f6d-88f1-c89a669691fe",
   "metadata": {},
   "source": [
    "to tweak what are we logging, we can pass `Callbacks` to the `Trainer` class."
   ]
  },
  {
   "cell_type": "code",
   "execution_count": 89,
   "id": "ffda5f2a-3696-4da0-9197-17076d6dce8b",
   "metadata": {},
   "outputs": [],
   "source": [
    "from composer.callbacks import SpeedMonitor, LRMonitor, CheckpointSaver"
   ]
  },
  {
   "cell_type": "markdown",
   "id": "0e647bcc-abe5-45cd-bb7d-fa91e6c2006e",
   "metadata": {},
   "source": [
    "we include callbacks that measure the model throughput (and the learning rate) and logs them to Weights & Biases. `Callbacks` control what is being logged, whereas loggers specify where the information is being saved. For more information on loggers, see [Logging](https://docs.mosaicml.com/en/latest/trainer/logging.html)."
   ]
  },
  {
   "cell_type": "code",
   "execution_count": 90,
   "id": "e60c66bc-f046-4a57-9ea7-a6e9fe5cfc3f",
   "metadata": {},
   "outputs": [],
   "source": [
    "callbacks = [LRMonitor(),    # Logs the learning rate\n",
    "             SpeedMonitor(), # Logs the training throughput\n",
    "            ]"
   ]
  },
  {
   "cell_type": "markdown",
   "id": "ed1cef41-583b-4915-88f0-a85bd4531206",
   "metadata": {},
   "source": [
    "we can also create a custom callback to log samples to `Weights and Biases` workspace,"
   ]
  },
  {
   "cell_type": "code",
   "execution_count": 91,
   "id": "b4c0116c-70e0-4f34-828a-1c911c709346",
   "metadata": {},
   "outputs": [],
   "source": [
    "import wandb\n",
    "from composer import Callback, State, Logger\n",
    "\n",
    "class LogPredictions(Callback):\n",
    "    def __init__(self, num_samples=100, seed=1234):\n",
    "        super().__init__()\n",
    "        self.num_samples = num_samples\n",
    "        self.data = []\n",
    "        \n",
    "    def eval_batch_end(self, state: State, logger: Logger):\n",
    "        \"\"\"Compute predictions per batch and stores them on self.data\"\"\"\n",
    "        \n",
    "        if state.timer.epoch == state.max_duration: #on last val epoch\n",
    "            if len(self.data) < self.num_samples:\n",
    "                n = self.num_samples\n",
    "                x, y = state.batch_pair\n",
    "                outputs = state.outputs.argmax(-1)\n",
    "                data = [[wandb.Image(x_i), y_i, y_pred] for x_i, y_i, y_pred in list(zip(x[:n], y[:n], outputs[:n]))]\n",
    "                self.data += data\n",
    "            \n",
    "    def eval_end(self, state: State, logger: Logger):\n",
    "        \"Create a wandb.Table and logs it\"\n",
    "        columns = ['image', 'ground truth', 'prediction']\n",
    "        table = wandb.Table(columns=columns, data=self.data[:self.num_samples])\n",
    "        wandb.log({'sample_table':table}, step=int(state.timer.batch))"
   ]
  },
  {
   "cell_type": "code",
   "execution_count": 92,
   "id": "682b52b0-5055-4cfd-a6c1-1a114390e965",
   "metadata": {},
   "outputs": [],
   "source": [
    "callbacks.append(LogPredictions())"
   ]
  },
  {
   "cell_type": "markdown",
   "id": "8541c9d6-fc72-46f4-941b-0c4dae64632b",
   "metadata": {},
   "source": [
    "then we pass them to the `Trainer`"
   ]
  },
  {
   "cell_type": "code",
   "execution_count": 93,
   "id": "1721f138-3c72-4234-bf14-45235f1d776e",
   "metadata": {},
   "outputs": [],
   "source": [
    "# trainer = Trainer(\n",
    "#     model=model,\n",
    "#     train_dataloader=train_dataloader,\n",
    "#     eval_dataloader=eval_dataloader,\n",
    "#     optimizers=torch.optim.Adam(model.parameters(), lr=1e-3, weight_decay=1e-2),\n",
    "#     max_duration=f\"{EPOCHS}ep\",\n",
    "#     loggers=loggers,\n",
    "#     callbacks=callbacks,\n",
    "#     device=\"gpu\",\n",
    "#     precision=\"amp\",\n",
    "\n",
    "# )\n",
    "# trainer.fit()"
   ]
  },
  {
   "cell_type": "markdown",
   "id": "c8a36c37-e390-4e86-b2f0-2ec4c390aa80",
   "metadata": {
    "tags": []
   },
   "source": [
    "## Going 🚀 with the Trainer\n",
    "We can try some of the magic algorithms from Mosaic"
   ]
  },
  {
   "cell_type": "code",
   "execution_count": 94,
   "id": "ee9a72a3-07cb-4785-a989-be54501a4138",
   "metadata": {},
   "outputs": [],
   "source": [
    "from composer.algorithms import LabelSmoothing, MixUp, ChannelsLast, ColOut, BlurPool\n",
    "from composer.optim import DecoupledAdamW, CosineAnnealingWithWarmupScheduler"
   ]
  },
  {
   "cell_type": "code",
   "execution_count": 95,
   "id": "2b470b0a-7534-43d2-95bb-fe6850352b77",
   "metadata": {},
   "outputs": [],
   "source": [
    "model = ResNet18(num_classes=10)"
   ]
  },
  {
   "cell_type": "code",
   "execution_count": 96,
   "id": "c617ebd7-5c82-49f2-8c8e-78fc42986198",
   "metadata": {},
   "outputs": [],
   "source": [
    "optim = DecoupledAdamW(model.parameters(), lr=1e-3, weight_decay=1e-5)\n",
    "# optim = torch.optim.Adam(model.parameters(), lr=1e-3, weight_decay=1e-2)\n",
    "\n",
    "cosine_annel = CosineAnnealingWithWarmupScheduler('1ep', '1dur')"
   ]
  },
  {
   "cell_type": "code",
   "execution_count": 101,
   "id": "99cdec7f-8e8d-4e4d-a16e-7062b9234695",
   "metadata": {},
   "outputs": [],
   "source": [
    "# config params to log\n",
    "config = {\"epochs\":EPOCHS, \n",
    "          \"batch_size\":BS,\n",
    "          \"model_name\":\"Resnet18\",\n",
    "          \"blur\":True}\n",
    "\n",
    "init_params = {\"project\":\"composer\", \n",
    "               \"entity\":\"capecape\",\n",
    "               \"name\":\"imagenette_algos\",\n",
    "               \"config\":config}\n",
    "\n",
    "# we pass the to the logger \n",
    "wandb_logger = WandBLogger(init_params=init_params)\n",
    "\n",
    "# we also add progressbar logging\n",
    "progress_logger = TQDMLogger()\n",
    "\n",
    "loggers = [progress_logger, wandb_logger]"
   ]
  },
  {
   "cell_type": "code",
   "execution_count": 102,
   "id": "066c0b81-8da1-42bf-9682-dfbef156d66c",
   "metadata": {},
   "outputs": [],
   "source": [
    "callbacks = [LRMonitor(),    # Logs the learning rate\n",
    "             SpeedMonitor(), # Logs the training throughput\n",
    "             LogPredictions()]"
   ]
  },
  {
   "cell_type": "code",
   "execution_count": 103,
   "id": "6a67bddd-1bc5-4e5c-8e5c-a4f1690f5140",
   "metadata": {},
   "outputs": [],
   "source": [
    "algorithms=[LabelSmoothing(), BlurPool()]"
   ]
  },
  {
   "cell_type": "code",
   "execution_count": 104,
   "id": "57da9600-db4b-4a53-84d0-6bafe7daae0f",
   "metadata": {},
   "outputs": [
    {
     "name": "stderr",
     "output_type": "stream",
     "text": [
      "INFO:composer.trainer.trainer:Setting seed to 1640148985\n"
     ]
    },
    {
     "data": {
      "text/html": [
       "Tracking run with wandb version 0.12.11"
      ],
      "text/plain": [
       "<IPython.core.display.HTML object>"
      ]
     },
     "metadata": {},
     "output_type": "display_data"
    },
    {
     "data": {
      "text/html": [
       "Run data is saved locally in <code>/home/paperspace/wandb/composer/wandb/run-20220324_140222-28tzf0zr</code>"
      ],
      "text/plain": [
       "<IPython.core.display.HTML object>"
      ]
     },
     "metadata": {},
     "output_type": "display_data"
    },
    {
     "data": {
      "text/html": [
       "Syncing run <strong><a href=\"https://wandb.ai/capecape/composer/runs/28tzf0zr\" target=\"_blank\">imagenette_algos</a></strong> to <a href=\"https://wandb.ai/capecape/composer\" target=\"_blank\">Weights & Biases</a> (<a href=\"https://wandb.me/run\" target=\"_blank\">docs</a>)<br/>"
      ],
      "text/plain": [
       "<IPython.core.display.HTML object>"
      ]
     },
     "metadata": {},
     "output_type": "display_data"
    },
    {
     "name": "stderr",
     "output_type": "stream",
     "text": [
      "INFO:composer.utils.module_surgery:adding 1 new parameters to parameter group #0\n",
      "INFO:composer.utils.module_surgery:adding 1 new parameters to parameter group #0\n",
      "INFO:composer.utils.module_surgery:adding 1 new parameters to parameter group #0\n",
      "INFO:composer.utils.module_surgery:adding 1 new parameters to parameter group #0\n",
      "INFO:composer.utils.module_surgery:adding 1 new parameters to parameter group #0\n",
      "INFO:composer.utils.module_surgery:adding 1 new parameters to parameter group #0\n",
      "INFO:composer.algorithms.blurpool.blurpool:Applied BlurPool to model ResNet18. Model now has 1 BlurMaxPool2d and 6 BlurConv2D layers.\n",
      "INFO:composer.algorithms.blurpool.blurpool:Applied BlurPool to model ResNet18 with replace_maxpools=True, replace_convs=True. Model now has 1 BlurMaxPool2d and 6 BlurConv2D layers.\n"
     ]
    },
    {
     "data": {
      "application/vnd.jupyter.widget-view+json": {
       "model_id": "1c7c2ab8829f4ed79640fd8a7a6b3e21",
       "version_major": 2,
       "version_minor": 0
      },
      "text/plain": [
       "Epoch 0:   0%|          | 0/148 [00:00<?, ?it/s]"
      ]
     },
     "metadata": {},
     "output_type": "display_data"
    },
    {
     "data": {
      "application/vnd.jupyter.widget-view+json": {
       "model_id": "38bebffa233f4420998698203f1a7566",
       "version_major": 2,
       "version_minor": 0
      },
      "text/plain": [
       "Epoch 1, Batch 148 (val):   0%|          | 0/31 [00:00<?, ?it/s]"
      ]
     },
     "metadata": {},
     "output_type": "display_data"
    },
    {
     "data": {
      "application/vnd.jupyter.widget-view+json": {
       "model_id": "937454fa925a4905940521a83830bdd6",
       "version_major": 2,
       "version_minor": 0
      },
      "text/plain": [
       "Epoch 1:   0%|          | 0/148 [00:00<?, ?it/s]"
      ]
     },
     "metadata": {},
     "output_type": "display_data"
    },
    {
     "data": {
      "application/vnd.jupyter.widget-view+json": {
       "model_id": "b83f557f80f040af98353e7910b17a0c",
       "version_major": 2,
       "version_minor": 0
      },
      "text/plain": [
       "Epoch 2, Batch 296 (val):   0%|          | 0/31 [00:00<?, ?it/s]"
      ]
     },
     "metadata": {},
     "output_type": "display_data"
    },
    {
     "data": {
      "application/vnd.jupyter.widget-view+json": {
       "model_id": "89400948311340518ceeff6bae75c830",
       "version_major": 2,
       "version_minor": 0
      },
      "text/plain": [
       "Epoch 2:   0%|          | 0/148 [00:00<?, ?it/s]"
      ]
     },
     "metadata": {},
     "output_type": "display_data"
    },
    {
     "data": {
      "application/vnd.jupyter.widget-view+json": {
       "model_id": "0f5b8c6a26bc4be586b46b2ffb14ae4f",
       "version_major": 2,
       "version_minor": 0
      },
      "text/plain": [
       "Epoch 3, Batch 444 (val):   0%|          | 0/31 [00:00<?, ?it/s]"
      ]
     },
     "metadata": {},
     "output_type": "display_data"
    },
    {
     "data": {
      "application/vnd.jupyter.widget-view+json": {
       "model_id": "9920c973fe154432b0ba0245701e0bef",
       "version_major": 2,
       "version_minor": 0
      },
      "text/plain": [
       "Epoch 3:   0%|          | 0/148 [00:00<?, ?it/s]"
      ]
     },
     "metadata": {},
     "output_type": "display_data"
    },
    {
     "data": {
      "application/vnd.jupyter.widget-view+json": {
       "model_id": "d9c0f0f066b942f0bde3416f514a6fec",
       "version_major": 2,
       "version_minor": 0
      },
      "text/plain": [
       "Epoch 4, Batch 592 (val):   0%|          | 0/31 [00:00<?, ?it/s]"
      ]
     },
     "metadata": {},
     "output_type": "display_data"
    },
    {
     "data": {
      "application/vnd.jupyter.widget-view+json": {
       "model_id": "22970bbe70044561b0f77f50133d4da1",
       "version_major": 2,
       "version_minor": 0
      },
      "text/plain": [
       "Epoch 4:   0%|          | 0/148 [00:00<?, ?it/s]"
      ]
     },
     "metadata": {},
     "output_type": "display_data"
    },
    {
     "data": {
      "application/vnd.jupyter.widget-view+json": {
       "model_id": "8624934ca6e34c22b3cc79a943cd7f15",
       "version_major": 2,
       "version_minor": 0
      },
      "text/plain": [
       "Epoch 5, Batch 740 (val):   0%|          | 0/31 [00:00<?, ?it/s]"
      ]
     },
     "metadata": {},
     "output_type": "display_data"
    },
    {
     "data": {
      "application/vnd.jupyter.widget-view+json": {
       "model_id": "395f7d0ebba24dbba2a9867f7a7694da",
       "version_major": 2,
       "version_minor": 0
      },
      "text/plain": [
       "Epoch 5:   0%|          | 0/148 [00:00<?, ?it/s]"
      ]
     },
     "metadata": {},
     "output_type": "display_data"
    },
    {
     "data": {
      "application/vnd.jupyter.widget-view+json": {
       "model_id": "1488808547794c39858b718279675d7f",
       "version_major": 2,
       "version_minor": 0
      },
      "text/plain": [
       "Epoch 6, Batch 888 (val):   0%|          | 0/31 [00:00<?, ?it/s]"
      ]
     },
     "metadata": {},
     "output_type": "display_data"
    },
    {
     "data": {
      "application/vnd.jupyter.widget-view+json": {
       "model_id": "ef224d64c0ed4136a7684ac6d72d8a79",
       "version_major": 2,
       "version_minor": 0
      },
      "text/plain": [
       "Epoch 6:   0%|          | 0/148 [00:00<?, ?it/s]"
      ]
     },
     "metadata": {},
     "output_type": "display_data"
    },
    {
     "data": {
      "application/vnd.jupyter.widget-view+json": {
       "model_id": "b4315c367d624be5a3eb3e324f76c287",
       "version_major": 2,
       "version_minor": 0
      },
      "text/plain": [
       "Epoch 7, Batch 1036 (val):   0%|          | 0/31 [00:00<?, ?it/s]"
      ]
     },
     "metadata": {},
     "output_type": "display_data"
    },
    {
     "data": {
      "application/vnd.jupyter.widget-view+json": {
       "model_id": "b7f13c430c87445cacf01a8d27fc72aa",
       "version_major": 2,
       "version_minor": 0
      },
      "text/plain": [
       "Epoch 7:   0%|          | 0/148 [00:00<?, ?it/s]"
      ]
     },
     "metadata": {},
     "output_type": "display_data"
    },
    {
     "data": {
      "application/vnd.jupyter.widget-view+json": {
       "model_id": "0c64054c1c6343a49b54696759f9a39c",
       "version_major": 2,
       "version_minor": 0
      },
      "text/plain": [
       "Epoch 8, Batch 1184 (val):   0%|          | 0/31 [00:00<?, ?it/s]"
      ]
     },
     "metadata": {},
     "output_type": "display_data"
    },
    {
     "data": {
      "application/vnd.jupyter.widget-view+json": {
       "model_id": "74b6b998355d4f76ba74792bca6cc31b",
       "version_major": 2,
       "version_minor": 0
      },
      "text/plain": [
       "Epoch 8:   0%|          | 0/148 [00:00<?, ?it/s]"
      ]
     },
     "metadata": {},
     "output_type": "display_data"
    },
    {
     "data": {
      "application/vnd.jupyter.widget-view+json": {
       "model_id": "ae0c452f99604590ac86b2c5007f781f",
       "version_major": 2,
       "version_minor": 0
      },
      "text/plain": [
       "Epoch 9, Batch 1332 (val):   0%|          | 0/31 [00:00<?, ?it/s]"
      ]
     },
     "metadata": {},
     "output_type": "display_data"
    },
    {
     "data": {
      "application/vnd.jupyter.widget-view+json": {
       "model_id": "c74b5e1121d74ddea8f112ed638c0f04",
       "version_major": 2,
       "version_minor": 0
      },
      "text/plain": [
       "Epoch 9:   0%|          | 0/148 [00:00<?, ?it/s]"
      ]
     },
     "metadata": {},
     "output_type": "display_data"
    },
    {
     "data": {
      "application/vnd.jupyter.widget-view+json": {
       "model_id": "c8b79e1f7f0b43bf8b1145e3a11a6dde",
       "version_major": 2,
       "version_minor": 0
      },
      "text/plain": [
       "Epoch 10, Batch 1480 (val):   0%|          | 0/31 [00:00<?, ?it/s]"
      ]
     },
     "metadata": {},
     "output_type": "display_data"
    },
    {
     "data": {
      "application/vnd.jupyter.widget-view+json": {
       "model_id": "f80a87eeab574f70822c9ea6bba89101",
       "version_major": 2,
       "version_minor": 0
      },
      "text/plain": [
       "Epoch 10:   0%|          | 0/148 [00:00<?, ?it/s]"
      ]
     },
     "metadata": {},
     "output_type": "display_data"
    },
    {
     "data": {
      "application/vnd.jupyter.widget-view+json": {
       "model_id": "aa2e083d126249e09afa6eecffbd3bd5",
       "version_major": 2,
       "version_minor": 0
      },
      "text/plain": [
       "Epoch 11, Batch 1628 (val):   0%|          | 0/31 [00:00<?, ?it/s]"
      ]
     },
     "metadata": {},
     "output_type": "display_data"
    },
    {
     "data": {
      "application/vnd.jupyter.widget-view+json": {
       "model_id": "0d81dd71317b457181dcd6c431571c21",
       "version_major": 2,
       "version_minor": 0
      },
      "text/plain": [
       "Epoch 11:   0%|          | 0/148 [00:00<?, ?it/s]"
      ]
     },
     "metadata": {},
     "output_type": "display_data"
    },
    {
     "data": {
      "application/vnd.jupyter.widget-view+json": {
       "model_id": "216d008f726f4ec4b0402d41cc4af25f",
       "version_major": 2,
       "version_minor": 0
      },
      "text/plain": [
       "Epoch 12, Batch 1776 (val):   0%|          | 0/31 [00:00<?, ?it/s]"
      ]
     },
     "metadata": {},
     "output_type": "display_data"
    },
    {
     "data": {
      "application/vnd.jupyter.widget-view+json": {
       "model_id": "1800b984ca694c65b2bd27d722977f9d",
       "version_major": 2,
       "version_minor": 0
      },
      "text/plain": [
       "Epoch 12:   0%|          | 0/148 [00:00<?, ?it/s]"
      ]
     },
     "metadata": {},
     "output_type": "display_data"
    },
    {
     "data": {
      "application/vnd.jupyter.widget-view+json": {
       "model_id": "15999de158a240a5ab1b4a7de0475326",
       "version_major": 2,
       "version_minor": 0
      },
      "text/plain": [
       "Epoch 13, Batch 1924 (val):   0%|          | 0/31 [00:00<?, ?it/s]"
      ]
     },
     "metadata": {},
     "output_type": "display_data"
    },
    {
     "data": {
      "application/vnd.jupyter.widget-view+json": {
       "model_id": "19c83b38e523404d99368328fa9ffaa7",
       "version_major": 2,
       "version_minor": 0
      },
      "text/plain": [
       "Epoch 13:   0%|          | 0/148 [00:00<?, ?it/s]"
      ]
     },
     "metadata": {},
     "output_type": "display_data"
    },
    {
     "data": {
      "application/vnd.jupyter.widget-view+json": {
       "model_id": "512a7461159b4aa78b293801d5ed40df",
       "version_major": 2,
       "version_minor": 0
      },
      "text/plain": [
       "Epoch 14, Batch 2072 (val):   0%|          | 0/31 [00:00<?, ?it/s]"
      ]
     },
     "metadata": {},
     "output_type": "display_data"
    },
    {
     "data": {
      "application/vnd.jupyter.widget-view+json": {
       "model_id": "5f93ce0aba7f4564b8de909b62f3c10d",
       "version_major": 2,
       "version_minor": 0
      },
      "text/plain": [
       "Epoch 14:   0%|          | 0/148 [00:00<?, ?it/s]"
      ]
     },
     "metadata": {},
     "output_type": "display_data"
    },
    {
     "data": {
      "application/vnd.jupyter.widget-view+json": {
       "model_id": "e71e5ff33c9b4225b46fb0fb43d1bdea",
       "version_major": 2,
       "version_minor": 0
      },
      "text/plain": [
       "Epoch 15, Batch 2220 (val):   0%|          | 0/31 [00:00<?, ?it/s]"
      ]
     },
     "metadata": {},
     "output_type": "display_data"
    },
    {
     "data": {
      "application/vnd.jupyter.widget-view+json": {
       "model_id": "f80459ef01974e1b83b6429c18166845",
       "version_major": 2,
       "version_minor": 0
      },
      "text/plain": [
       "Epoch 15:   0%|          | 0/148 [00:00<?, ?it/s]"
      ]
     },
     "metadata": {},
     "output_type": "display_data"
    },
    {
     "data": {
      "application/vnd.jupyter.widget-view+json": {
       "model_id": "86acc7f983c8485b880ca5de76450780",
       "version_major": 2,
       "version_minor": 0
      },
      "text/plain": [
       "Epoch 16, Batch 2368 (val):   0%|          | 0/31 [00:00<?, ?it/s]"
      ]
     },
     "metadata": {},
     "output_type": "display_data"
    },
    {
     "data": {
      "application/vnd.jupyter.widget-view+json": {
       "model_id": "cfc0ce8c5426495b9316fedf22e2c153",
       "version_major": 2,
       "version_minor": 0
      },
      "text/plain": [
       "Epoch 16:   0%|          | 0/148 [00:00<?, ?it/s]"
      ]
     },
     "metadata": {},
     "output_type": "display_data"
    },
    {
     "data": {
      "application/vnd.jupyter.widget-view+json": {
       "model_id": "8906f24e7d51474ea53c96ea973ace7a",
       "version_major": 2,
       "version_minor": 0
      },
      "text/plain": [
       "Epoch 17, Batch 2516 (val):   0%|          | 0/31 [00:00<?, ?it/s]"
      ]
     },
     "metadata": {},
     "output_type": "display_data"
    },
    {
     "data": {
      "application/vnd.jupyter.widget-view+json": {
       "model_id": "276e1dd7b09d41f78c3be8d041048038",
       "version_major": 2,
       "version_minor": 0
      },
      "text/plain": [
       "Epoch 17:   0%|          | 0/148 [00:00<?, ?it/s]"
      ]
     },
     "metadata": {},
     "output_type": "display_data"
    },
    {
     "data": {
      "application/vnd.jupyter.widget-view+json": {
       "model_id": "a7036d44e6dc42fc8991e2add066deb6",
       "version_major": 2,
       "version_minor": 0
      },
      "text/plain": [
       "Epoch 18, Batch 2664 (val):   0%|          | 0/31 [00:00<?, ?it/s]"
      ]
     },
     "metadata": {},
     "output_type": "display_data"
    },
    {
     "data": {
      "application/vnd.jupyter.widget-view+json": {
       "model_id": "169836b50e224da7a0bf7fb03095a2e8",
       "version_major": 2,
       "version_minor": 0
      },
      "text/plain": [
       "Epoch 18:   0%|          | 0/148 [00:00<?, ?it/s]"
      ]
     },
     "metadata": {},
     "output_type": "display_data"
    },
    {
     "data": {
      "application/vnd.jupyter.widget-view+json": {
       "model_id": "da0e8675355a499598d06678171ebe03",
       "version_major": 2,
       "version_minor": 0
      },
      "text/plain": [
       "Epoch 19, Batch 2812 (val):   0%|          | 0/31 [00:00<?, ?it/s]"
      ]
     },
     "metadata": {},
     "output_type": "display_data"
    },
    {
     "data": {
      "application/vnd.jupyter.widget-view+json": {
       "model_id": "09f76a34943749908b8eaf73d0edaff8",
       "version_major": 2,
       "version_minor": 0
      },
      "text/plain": [
       "Epoch 19:   0%|          | 0/148 [00:00<?, ?it/s]"
      ]
     },
     "metadata": {},
     "output_type": "display_data"
    },
    {
     "data": {
      "application/vnd.jupyter.widget-view+json": {
       "model_id": "88d93bd9ce744fe7888b834b58907617",
       "version_major": 2,
       "version_minor": 0
      },
      "text/plain": [
       "Epoch 20, Batch 2960 (val):   0%|          | 0/31 [00:00<?, ?it/s]"
      ]
     },
     "metadata": {},
     "output_type": "display_data"
    },
    {
     "name": "stdout",
     "output_type": "stream",
     "text": [
      "\n"
     ]
    },
    {
     "data": {
      "text/html": [
       "Waiting for W&B process to finish... <strong style=\"color:green\">(success).</strong>"
      ],
      "text/plain": [
       "<IPython.core.display.HTML object>"
      ]
     },
     "metadata": {},
     "output_type": "display_data"
    },
    {
     "data": {
      "application/vnd.jupyter.widget-view+json": {
       "model_id": "",
       "version_major": 2,
       "version_minor": 0
      },
      "text/plain": [
       "VBox(children=(Label(value='9.111 MB of 9.112 MB uploaded (0.000 MB deduped)\\r'), FloatProgress(value=0.999815…"
      ]
     },
     "metadata": {},
     "output_type": "display_data"
    },
    {
     "data": {
      "text/html": [
       "<style>\n",
       "    table.wandb td:nth-child(1) { padding: 0 10px; text-align: right }\n",
       "    .wandb-row { display: flex; flex-direction: row; flex-wrap: wrap; width: 100% }\n",
       "    .wandb-col { display: flex; flex-direction: column; flex-basis: 100%; flex: 1; padding: 10px; }\n",
       "    </style>\n",
       "<div class=\"wandb-row\"><div class=\"wandb-col\"><h3>Run history:</h3><br/><table class=\"wandb\"><tr><td><composer.algorithms.blurpool.blurpool.BlurPool object at 0x7f56efcd3b80>/Event.INIT</td><td>▁</td></tr><tr><td><composer.algorithms.label_smoothing.label_smoothing.LabelSmoothing object at 0x7f56efcd38b0>/Event.AFTER_LOSS</td><td>▁▁▁▁▁▁▁▁▁▁▁▁▁▁▁▁▁▁▁▁▁▁▁▁▁▁▁▁▁▁▁▁▁▁▁▁▁▁▁▁</td></tr><tr><td><composer.algorithms.label_smoothing.label_smoothing.LabelSmoothing object at 0x7f56efcd38b0>/Event.BEFORE_LOSS</td><td>▁▁▁▁▁▁▁▁▁▁▁▁▁▁▁▁▁▁▁▁▁▁▁▁▁▁▁▁▁▁▁▁▁▁▁▁▁▁▁▁</td></tr><tr><td>accuracy/val</td><td>▁▃▄▄▆▅▅▇▇▇▇█████████</td></tr><tr><td>blurpool/num_blurconv_layers</td><td>▁</td></tr><tr><td>blurpool/num_blurpool_layers</td><td>▁</td></tr><tr><td>epoch</td><td>▁▁▂▂▂▃▃▃▄▄▅▅▅▆▆▆▇▇▇██</td></tr><tr><td>loss/train</td><td>▃▆█▆▅▅▄▃▄▄▄▃▂▃▃▂▂▂▂▂▁▁▁▁▁▁▁▁▁▁▁▁▁▁▁▁▁▁▁▁</td></tr><tr><td>lr-DecoupledAdamW/group0</td><td>▃▆███████▇▇▇▇▇▆▆▆▆▅▅▅▄▄▄▃▃▃▃▂▂▂▂▂▁▁▁▁▁▁▁</td></tr><tr><td>throughput/epoch</td><td>▁▇▆█▇▇▇▆▅▆▆▆▇█▇▇▆▆▆▆</td></tr><tr><td>throughput/step</td><td>▇█▅▆▆▅██▆▄▄▄▅▇▇▆▃▄▄▃▂▁▄▅▆▇▇▇▇▅▄▆▄▄▃▄▄▅▃▆</td></tr><tr><td>trainer/batch_idx</td><td>▂▆▁▇▂▅▂▆▁▇▂▆▃▆▁▇▂▆▃▇▂▇▂▆▃▇▂█▃▆▃▇▂█▃▇▄▇▂█</td></tr><tr><td>trainer/global_step</td><td>▁▁▁▂▂▂▂▂▂▃▃▃▃▃▃▄▄▄▄▄▅▅▅▅▅▅▆▆▆▆▆▇▇▇▇▇▇███</td></tr><tr><td>wall_clock_train</td><td>▁▁▂▂▂▃▃▄▄▄▅▅▅▆▆▇▇▇██</td></tr></table><br/></div><div class=\"wandb-col\"><h3>Run summary:</h3><br/><table class=\"wandb\"><tr><td><composer.algorithms.blurpool.blurpool.BlurPool object at 0x7f56efcd3b80>/Event.INIT</td><td>1</td></tr><tr><td><composer.algorithms.label_smoothing.label_smoothing.LabelSmoothing object at 0x7f56efcd38b0>/Event.AFTER_LOSS</td><td>1</td></tr><tr><td><composer.algorithms.label_smoothing.label_smoothing.LabelSmoothing object at 0x7f56efcd38b0>/Event.BEFORE_LOSS</td><td>1</td></tr><tr><td>accuracy/val</td><td>0.85045</td></tr><tr><td>blurpool/num_blurconv_layers</td><td>6</td></tr><tr><td>blurpool/num_blurpool_layers</td><td>1</td></tr><tr><td>epoch</td><td>20</td></tr><tr><td>loss/train</td><td>0.51955</td></tr><tr><td>lr-DecoupledAdamW/group0</td><td>0.0</td></tr><tr><td>throughput/epoch</td><td>724.73471</td></tr><tr><td>throughput/step</td><td>792.84697</td></tr><tr><td>trainer/batch_idx</td><td>147</td></tr><tr><td>trainer/global_step</td><td>2960</td></tr><tr><td>wall_clock_train</td><td>261.26069</td></tr></table><br/></div></div>"
      ],
      "text/plain": [
       "<IPython.core.display.HTML object>"
      ]
     },
     "metadata": {},
     "output_type": "display_data"
    },
    {
     "data": {
      "text/html": [
       "Synced <strong style=\"color:#cdcd00\">imagenette_algos</strong>: <a href=\"https://wandb.ai/capecape/composer/runs/28tzf0zr\" target=\"_blank\">https://wandb.ai/capecape/composer/runs/28tzf0zr</a><br/>Synced 6 W&B file(s), 20 media file(s), 102 artifact file(s) and 0 other file(s)"
      ],
      "text/plain": [
       "<IPython.core.display.HTML object>"
      ]
     },
     "metadata": {},
     "output_type": "display_data"
    },
    {
     "data": {
      "text/html": [
       "Find logs at: <code>./wandb/run-20220324_140222-28tzf0zr/logs</code>"
      ],
      "text/plain": [
       "<IPython.core.display.HTML object>"
      ]
     },
     "metadata": {},
     "output_type": "display_data"
    }
   ],
   "source": [
    "trainer = Trainer(\n",
    "    model=model,\n",
    "    train_dataloader=train_dataloader,\n",
    "    eval_dataloader=eval_dataloader,\n",
    "    max_duration=f\"{EPOCHS}ep\",\n",
    "    loggers=loggers,\n",
    "    callbacks=callbacks,\n",
    "    optimizers=optim,\n",
    "    schedulers=cosine_annel,\n",
    "    algorithms=algorithms,\n",
    "    precision=\"amp\",\n",
    "    device=\"gpu\",\n",
    ")\n",
    "trainer.fit()"
   ]
  },
  {
   "cell_type": "markdown",
   "id": "05a62cec-c7ab-4f93-9a6e-2f218fff2003",
   "metadata": {},
   "source": [
    "# Fastai"
   ]
  },
  {
   "cell_type": "markdown",
   "id": "64dd80f7-7bd9-4f8f-b591-621f5c1d8828",
   "metadata": {},
   "source": [
    "Let's compare to another framework that has best practices baked in."
   ]
  },
  {
   "cell_type": "code",
   "execution_count": 62,
   "id": "224f92f6-76c6-432b-b17e-9bce07e44644",
   "metadata": {},
   "outputs": [],
   "source": [
    "import wandb\n",
    "from fastai.vision.all import *\n",
    "from fastai.callback.wandb import WandbCallback"
   ]
  },
  {
   "cell_type": "code",
   "execution_count": 63,
   "id": "be8ba5ce-bc36-4196-aea4-84a30d7da879",
   "metadata": {},
   "outputs": [],
   "source": [
    "dls = ImageDataLoaders.from_folder(imagenette_path, train=\"train\", valid=\"val\", \n",
    "                                   bs=BS, val_bs=2*BS, item_tfms=Resize(256))"
   ]
  },
  {
   "cell_type": "code",
   "execution_count": 64,
   "id": "f72e7133-3a67-4ee3-9b3d-586b045b590e",
   "metadata": {},
   "outputs": [
    {
     "data": {
      "text/html": [
       "Tracking run with wandb version 0.12.11"
      ],
      "text/plain": [
       "<IPython.core.display.HTML object>"
      ]
     },
     "metadata": {},
     "output_type": "display_data"
    },
    {
     "data": {
      "text/html": [
       "Run data is saved locally in <code>/home/paperspace/wandb/composer/wandb/run-20220324_133832-374zh0fz</code>"
      ],
      "text/plain": [
       "<IPython.core.display.HTML object>"
      ]
     },
     "metadata": {},
     "output_type": "display_data"
    },
    {
     "data": {
      "text/html": [
       "Syncing run <strong><a href=\"https://wandb.ai/capecape/composer/runs/374zh0fz\" target=\"_blank\">fastai</a></strong> to <a href=\"https://wandb.ai/capecape/composer\" target=\"_blank\">Weights & Biases</a> (<a href=\"https://wandb.me/run\" target=\"_blank\">docs</a>)<br/>"
      ],
      "text/plain": [
       "<IPython.core.display.HTML object>"
      ]
     },
     "metadata": {},
     "output_type": "display_data"
    },
    {
     "name": "stdout",
     "output_type": "stream",
     "text": [
      "WandbCallback requires use of \"SaveModelCallback\" to log best model\n"
     ]
    },
    {
     "data": {
      "text/html": [
       "<table border=\"1\" class=\"dataframe\">\n",
       "  <thead>\n",
       "    <tr style=\"text-align: left;\">\n",
       "      <th>epoch</th>\n",
       "      <th>train_loss</th>\n",
       "      <th>valid_loss</th>\n",
       "      <th>accuracy</th>\n",
       "      <th>time</th>\n",
       "    </tr>\n",
       "  </thead>\n",
       "  <tbody>\n",
       "    <tr>\n",
       "      <td>0</td>\n",
       "      <td>2.697134</td>\n",
       "      <td>2.654242</td>\n",
       "      <td>0.324841</td>\n",
       "      <td>00:29</td>\n",
       "    </tr>\n",
       "    <tr>\n",
       "      <td>1</td>\n",
       "      <td>2.342949</td>\n",
       "      <td>2.016505</td>\n",
       "      <td>0.413758</td>\n",
       "      <td>00:29</td>\n",
       "    </tr>\n",
       "    <tr>\n",
       "      <td>2</td>\n",
       "      <td>1.951005</td>\n",
       "      <td>2.289935</td>\n",
       "      <td>0.353885</td>\n",
       "      <td>00:29</td>\n",
       "    </tr>\n",
       "    <tr>\n",
       "      <td>3</td>\n",
       "      <td>1.622496</td>\n",
       "      <td>1.852558</td>\n",
       "      <td>0.451975</td>\n",
       "      <td>00:29</td>\n",
       "    </tr>\n",
       "    <tr>\n",
       "      <td>4</td>\n",
       "      <td>1.467790</td>\n",
       "      <td>1.535405</td>\n",
       "      <td>0.561274</td>\n",
       "      <td>00:29</td>\n",
       "    </tr>\n",
       "    <tr>\n",
       "      <td>5</td>\n",
       "      <td>1.414432</td>\n",
       "      <td>1.850190</td>\n",
       "      <td>0.528408</td>\n",
       "      <td>00:29</td>\n",
       "    </tr>\n",
       "    <tr>\n",
       "      <td>6</td>\n",
       "      <td>1.376487</td>\n",
       "      <td>1.494108</td>\n",
       "      <td>0.586752</td>\n",
       "      <td>00:29</td>\n",
       "    </tr>\n",
       "    <tr>\n",
       "      <td>7</td>\n",
       "      <td>1.220292</td>\n",
       "      <td>1.122505</td>\n",
       "      <td>0.745223</td>\n",
       "      <td>00:29</td>\n",
       "    </tr>\n",
       "    <tr>\n",
       "      <td>8</td>\n",
       "      <td>1.172954</td>\n",
       "      <td>1.870423</td>\n",
       "      <td>0.421146</td>\n",
       "      <td>00:29</td>\n",
       "    </tr>\n",
       "    <tr>\n",
       "      <td>9</td>\n",
       "      <td>1.086488</td>\n",
       "      <td>2.229283</td>\n",
       "      <td>0.395159</td>\n",
       "      <td>00:30</td>\n",
       "    </tr>\n",
       "    <tr>\n",
       "      <td>10</td>\n",
       "      <td>1.024246</td>\n",
       "      <td>1.119702</td>\n",
       "      <td>0.756433</td>\n",
       "      <td>00:30</td>\n",
       "    </tr>\n",
       "    <tr>\n",
       "      <td>11</td>\n",
       "      <td>0.980474</td>\n",
       "      <td>0.975227</td>\n",
       "      <td>0.816815</td>\n",
       "      <td>00:30</td>\n",
       "    </tr>\n",
       "    <tr>\n",
       "      <td>12</td>\n",
       "      <td>0.918784</td>\n",
       "      <td>0.987599</td>\n",
       "      <td>0.804841</td>\n",
       "      <td>00:30</td>\n",
       "    </tr>\n",
       "    <tr>\n",
       "      <td>13</td>\n",
       "      <td>0.871686</td>\n",
       "      <td>0.971162</td>\n",
       "      <td>0.834904</td>\n",
       "      <td>00:30</td>\n",
       "    </tr>\n",
       "    <tr>\n",
       "      <td>14</td>\n",
       "      <td>0.809395</td>\n",
       "      <td>0.979510</td>\n",
       "      <td>0.822420</td>\n",
       "      <td>00:30</td>\n",
       "    </tr>\n",
       "    <tr>\n",
       "      <td>15</td>\n",
       "      <td>0.768387</td>\n",
       "      <td>0.890574</td>\n",
       "      <td>0.848917</td>\n",
       "      <td>00:29</td>\n",
       "    </tr>\n",
       "    <tr>\n",
       "      <td>16</td>\n",
       "      <td>0.730426</td>\n",
       "      <td>0.874654</td>\n",
       "      <td>0.854522</td>\n",
       "      <td>00:29</td>\n",
       "    </tr>\n",
       "    <tr>\n",
       "      <td>17</td>\n",
       "      <td>0.706379</td>\n",
       "      <td>0.878986</td>\n",
       "      <td>0.858854</td>\n",
       "      <td>00:30</td>\n",
       "    </tr>\n",
       "    <tr>\n",
       "      <td>18</td>\n",
       "      <td>0.683655</td>\n",
       "      <td>0.865732</td>\n",
       "      <td>0.859873</td>\n",
       "      <td>00:30</td>\n",
       "    </tr>\n",
       "    <tr>\n",
       "      <td>19</td>\n",
       "      <td>0.675829</td>\n",
       "      <td>0.859876</td>\n",
       "      <td>0.861401</td>\n",
       "      <td>00:30</td>\n",
       "    </tr>\n",
       "  </tbody>\n",
       "</table>"
      ],
      "text/plain": [
       "<IPython.core.display.HTML object>"
      ]
     },
     "metadata": {},
     "output_type": "display_data"
    },
    {
     "name": "stdout",
     "output_type": "stream",
     "text": [
      "\n"
     ]
    },
    {
     "data": {
      "text/html": [
       "Waiting for W&B process to finish... <strong style=\"color:green\">(success).</strong>"
      ],
      "text/plain": [
       "<IPython.core.display.HTML object>"
      ]
     },
     "metadata": {},
     "output_type": "display_data"
    },
    {
     "data": {
      "application/vnd.jupyter.widget-view+json": {
       "model_id": "",
       "version_major": 2,
       "version_minor": 0
      },
      "text/plain": [
       "VBox(children=(Label(value='0.001 MB of 0.001 MB uploaded (0.000 MB deduped)\\r'), FloatProgress(value=1.0, max…"
      ]
     },
     "metadata": {},
     "output_type": "display_data"
    },
    {
     "data": {
      "text/html": [
       "<style>\n",
       "    table.wandb td:nth-child(1) { padding: 0 10px; text-align: right }\n",
       "    .wandb-row { display: flex; flex-direction: row; flex-wrap: wrap; width: 100% }\n",
       "    .wandb-col { display: flex; flex-direction: column; flex-basis: 100%; flex: 1; padding: 10px; }\n",
       "    </style>\n",
       "<div class=\"wandb-row\"><div class=\"wandb-col\"><h3>Run history:</h3><br/><table class=\"wandb\"><tr><td>accuracy</td><td>▁▂▁▃▄▄▄▆▂▂▇▇▇█▇█████</td></tr><tr><td>epoch</td><td>▁▁▁▁▂▂▂▂▂▃▃▃▃▃▄▄▄▄▄▄▅▅▅▅▅▅▆▆▆▆▆▇▇▇▇▇████</td></tr><tr><td>eps_0</td><td>▁▁▁▁▁▁▁▁▁▁▁▁▁▁▁▁▁▁▁▁▁▁▁▁▁▁▁▁▁▁▁▁▁▁▁▁▁▁▁▁</td></tr><tr><td>eps_1</td><td>▁▁▁▁▁▁▁▁▁▁▁▁▁▁▁▁▁▁▁▁▁▁▁▁▁▁▁▁▁▁▁▁▁▁▁▁▁▁▁▁</td></tr><tr><td>eps_2</td><td>▁▁▁▁▁▁▁▁▁▁▁▁▁▁▁▁▁▁▁▁▁▁▁▁▁▁▁▁▁▁▁▁▁▁▁▁▁▁▁▁</td></tr><tr><td>lr_0</td><td>▁▂▂▃▄▅▆▇███████▇▇▇▇▇▆▆▆▅▅▄▄▄▃▃▃▂▂▂▂▁▁▁▁▁</td></tr><tr><td>lr_1</td><td>▁▂▂▃▄▅▆▇███████▇▇▇▇▇▆▆▆▅▅▄▄▄▃▃▃▂▂▂▂▁▁▁▁▁</td></tr><tr><td>lr_2</td><td>▁▂▂▃▄▅▆▇███████▇▇▇▇▇▆▆▆▅▅▄▄▄▃▃▃▂▂▂▂▁▁▁▁▁</td></tr><tr><td>mom_0</td><td>██▇▇▅▄▃▂▂▁▁▁▁▁▁▂▂▂▂▂▃▃▃▄▄▅▅▅▆▆▆▇▇▇▇█████</td></tr><tr><td>mom_1</td><td>██▇▇▅▄▃▂▂▁▁▁▁▁▁▂▂▂▂▂▃▃▃▄▄▅▅▅▆▆▆▇▇▇▇█████</td></tr><tr><td>mom_2</td><td>██▇▇▅▄▃▂▂▁▁▁▁▁▁▂▂▂▂▂▃▃▃▄▄▅▅▅▆▆▆▇▇▇▇█████</td></tr><tr><td>raw_loss</td><td>█▆▆▅▄▅▃▄▄▃▃▂▃▃▂▃▃▂▂▂▂▂▂▂▁▂▂▂▂▁▁▁▁▁▁▁▁▁▁▁</td></tr><tr><td>sqr_mom_0</td><td>▁▁▁▁▁▁▁▁▁▁▁▁▁▁▁▁▁▁▁▁▁▁▁▁▁▁▁▁▁▁▁▁▁▁▁▁▁▁▁▁</td></tr><tr><td>sqr_mom_1</td><td>▁▁▁▁▁▁▁▁▁▁▁▁▁▁▁▁▁▁▁▁▁▁▁▁▁▁▁▁▁▁▁▁▁▁▁▁▁▁▁▁</td></tr><tr><td>sqr_mom_2</td><td>▁▁▁▁▁▁▁▁▁▁▁▁▁▁▁▁▁▁▁▁▁▁▁▁▁▁▁▁▁▁▁▁▁▁▁▁▁▁▁▁</td></tr><tr><td>train_loss</td><td>█▇▆▆▅▅▄▄▄▃▃▃▃▃▃▃▂▂▂▂▂▂▂▂▂▂▂▂▁▁▁▁▁▁▁▁▁▁▁▁</td></tr><tr><td>valid_loss</td><td>█▆▇▅▄▅▃▂▅▆▂▁▁▁▁▁▁▁▁▁</td></tr><tr><td>wd_0</td><td>▁▁▁▁▁▁▁▁▁▁▁▁▁▁▁▁▁▁▁▁▁▁▁▁▁▁▁▁▁▁▁▁▁▁▁▁▁▁▁▁</td></tr><tr><td>wd_1</td><td>▁▁▁▁▁▁▁▁▁▁▁▁▁▁▁▁▁▁▁▁▁▁▁▁▁▁▁▁▁▁▁▁▁▁▁▁▁▁▁▁</td></tr><tr><td>wd_2</td><td>▁▁▁▁▁▁▁▁▁▁▁▁▁▁▁▁▁▁▁▁▁▁▁▁▁▁▁▁▁▁▁▁▁▁▁▁▁▁▁▁</td></tr></table><br/></div><div class=\"wandb-col\"><h3>Run summary:</h3><br/><table class=\"wandb\"><tr><td>accuracy</td><td>0.8614</td></tr><tr><td>epoch</td><td>20</td></tr><tr><td>eps_0</td><td>1e-05</td></tr><tr><td>eps_1</td><td>1e-05</td></tr><tr><td>eps_2</td><td>1e-05</td></tr><tr><td>lr_0</td><td>0.0</td></tr><tr><td>lr_1</td><td>0.0</td></tr><tr><td>lr_2</td><td>0.0</td></tr><tr><td>mom_0</td><td>0.95</td></tr><tr><td>mom_1</td><td>0.95</td></tr><tr><td>mom_2</td><td>0.95</td></tr><tr><td>raw_loss</td><td>0.65117</td></tr><tr><td>sqr_mom_0</td><td>0.99</td></tr><tr><td>sqr_mom_1</td><td>0.99</td></tr><tr><td>sqr_mom_2</td><td>0.99</td></tr><tr><td>train_loss</td><td>0.67583</td></tr><tr><td>valid_loss</td><td>0.85988</td></tr><tr><td>wd_0</td><td>0.01</td></tr><tr><td>wd_1</td><td>0.01</td></tr><tr><td>wd_2</td><td>0.01</td></tr></table><br/></div></div>"
      ],
      "text/plain": [
       "<IPython.core.display.HTML object>"
      ]
     },
     "metadata": {},
     "output_type": "display_data"
    },
    {
     "data": {
      "text/html": [
       "Synced <strong style=\"color:#cdcd00\">fastai</strong>: <a href=\"https://wandb.ai/capecape/composer/runs/374zh0fz\" target=\"_blank\">https://wandb.ai/capecape/composer/runs/374zh0fz</a><br/>Synced 6 W&B file(s), 0 media file(s), 0 artifact file(s) and 0 other file(s)"
      ],
      "text/plain": [
       "<IPython.core.display.HTML object>"
      ]
     },
     "metadata": {},
     "output_type": "display_data"
    },
    {
     "data": {
      "text/html": [
       "Find logs at: <code>./wandb/run-20220324_133832-374zh0fz/logs</code>"
      ],
      "text/plain": [
       "<IPython.core.display.HTML object>"
      ]
     },
     "metadata": {},
     "output_type": "display_data"
    }
   ],
   "source": [
    "with wandb.init(project=\"composer\", name=\"fastai\"):\n",
    "    cbs = [MixedPrecision(), WandbCallback(log_preds=False)]\n",
    "    learn = cnn_learner(dls, resnet18, \n",
    "                        metrics=[accuracy], \n",
    "                        loss_func=LabelSmoothingCrossEntropyFlat(),\n",
    "                        cbs=cbs, pretrained=False)\n",
    "    learn.fit_one_cycle(EPOCHS, 1e-3)"
   ]
  }
 ],
 "metadata": {
  "kernelspec": {
   "display_name": "pt",
   "language": "python",
   "name": "pt"
  },
  "language_info": {
   "codemirror_mode": {
    "name": "ipython",
    "version": 3
   },
   "file_extension": ".py",
   "mimetype": "text/x-python",
   "name": "python",
   "nbconvert_exporter": "python",
   "pygments_lexer": "ipython3",
   "version": "3.9.9"
  }
 },
 "nbformat": 4,
 "nbformat_minor": 5
}
